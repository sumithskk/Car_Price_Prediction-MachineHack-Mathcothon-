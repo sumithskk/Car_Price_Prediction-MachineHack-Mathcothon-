{
  "nbformat": 4,
  "nbformat_minor": 0,
  "metadata": {
    "language_info": {
      "codemirror_mode": {
        "name": "ipython",
        "version": 3
      },
      "file_extension": ".py",
      "mimetype": "text/x-python",
      "name": "python",
      "nbconvert_exporter": "python",
      "pygments_lexer": "ipython3",
      "version": "3.8.0"
    },
    "orig_nbformat": 4,
    "kernelspec": {
      "name": "python3",
      "display_name": "Python 3.8.0 64-bit"
    },
    "interpreter": {
      "hash": "1baa965d5efe3ac65b79dfc60c0d706280b1da80fedb7760faf2759126c4f253"
    },
    "colab": {
      "name": "Car_Price_Prediction_MachineHack.ipynb",
      "provenance": [],
      "collapsed_sections": [
        "mnbJQxw8iWWH",
        "XcrTyuoNjZAs",
        "p5gr_YcYhBwA",
        "B3sUmBikkapu",
        "HGJZ1O2ckeCf"
      ],
      "include_colab_link": true
    }
  },
  "cells": [
    {
      "cell_type": "markdown",
      "metadata": {
        "id": "view-in-github",
        "colab_type": "text"
      },
      "source": [
        "<a href=\"https://colab.research.google.com/github/sumithskk/Car_Price_Prediction-MachineHack-Mathcothon-/blob/main/Car_Price_Prediction_MachineHack.ipynb\" target=\"_parent\"><img src=\"https://colab.research.google.com/assets/colab-badge.svg\" alt=\"Open In Colab\"/></a>"
      ]
    },
    {
      "cell_type": "markdown",
      "metadata": {
        "id": "44jntVUpiClu"
      },
      "source": [
        "# MATHCOTHON - Car Price Prediction"
      ]
    },
    {
      "cell_type": "markdown",
      "metadata": {
        "id": "mnbJQxw8iWWH"
      },
      "source": [
        "# 1. Data Preparation"
      ]
    },
    {
      "cell_type": "code",
      "metadata": {
        "id": "Q7CWll-uhBvb"
      },
      "source": [
        "# Import all libraries required\n",
        "import pandas as pd \n",
        "import numpy as np \n",
        "import matplotlib.pyplot as plt \n",
        "import seaborn as sns \n",
        "\n",
        "plt.style.use('default')\n",
        "\n",
        "from warnings import filterwarnings\n",
        "filterwarnings('ignore')\n",
        "#scipy libraries\n",
        "from scipy import stats\n",
        "from scipy.stats import norm, skew#for some statistics\n",
        "from scipy.special import boxcox,inv_boxcox\n",
        "\n",
        "#sklearn libraries\n",
        "from sklearn.feature_selection import SelectKBest\n",
        "from sklearn.feature_selection import chi2\n",
        "from sklearn.preprocessing import MinMaxScaler"
      ],
      "execution_count": 1,
      "outputs": []
    },
    {
      "cell_type": "code",
      "metadata": {
        "colab": {
          "base_uri": "https://localhost:8080/"
        },
        "id": "JouOP7RFuite",
        "outputId": "14462ee9-b8e5-4e50-a5f3-8e843b9d253b"
      },
      "source": [
        "from google.colab import drive\n",
        "drive.mount('/content/drive')"
      ],
      "execution_count": 2,
      "outputs": [
        {
          "output_type": "stream",
          "text": [
            "Drive already mounted at /content/drive; to attempt to forcibly remount, call drive.mount(\"/content/drive\", force_remount=True).\n"
          ],
          "name": "stdout"
        }
      ]
    },
    {
      "cell_type": "code",
      "metadata": {
        "colab": {
          "base_uri": "https://localhost:8080/",
          "height": 0
        },
        "id": "lSVh6E3IhBvj",
        "outputId": "61b3250c-d43e-4d24-ed92-8e901322daff"
      },
      "source": [
        "# load train and test dataset\n",
        "train = pd.read_csv(\"/content/drive/MyDrive/Colab Notebooks/Bootcamp/Machine-Hack/train.csv\")\n",
        "test = pd.read_csv('/content/drive/MyDrive/Colab Notebooks/Bootcamp/Machine-Hack/test.csv')\n",
        "train.head(2)"
      ],
      "execution_count": 3,
      "outputs": [
        {
          "output_type": "execute_result",
          "data": {
            "text/html": [
              "<div>\n",
              "<style scoped>\n",
              "    .dataframe tbody tr th:only-of-type {\n",
              "        vertical-align: middle;\n",
              "    }\n",
              "\n",
              "    .dataframe tbody tr th {\n",
              "        vertical-align: top;\n",
              "    }\n",
              "\n",
              "    .dataframe thead th {\n",
              "        text-align: right;\n",
              "    }\n",
              "</style>\n",
              "<table border=\"1\" class=\"dataframe\">\n",
              "  <thead>\n",
              "    <tr style=\"text-align: right;\">\n",
              "      <th></th>\n",
              "      <th>ID</th>\n",
              "      <th>Price</th>\n",
              "      <th>Levy</th>\n",
              "      <th>Manufacturer</th>\n",
              "      <th>Model</th>\n",
              "      <th>Prod. year</th>\n",
              "      <th>Category</th>\n",
              "      <th>Leather interior</th>\n",
              "      <th>Fuel type</th>\n",
              "      <th>Engine volume</th>\n",
              "      <th>Mileage</th>\n",
              "      <th>Cylinders</th>\n",
              "      <th>Gear box type</th>\n",
              "      <th>Drive wheels</th>\n",
              "      <th>Doors</th>\n",
              "      <th>Wheel</th>\n",
              "      <th>Color</th>\n",
              "      <th>Airbags</th>\n",
              "    </tr>\n",
              "  </thead>\n",
              "  <tbody>\n",
              "    <tr>\n",
              "      <th>0</th>\n",
              "      <td>45654403</td>\n",
              "      <td>13328</td>\n",
              "      <td>1399</td>\n",
              "      <td>LEXUS</td>\n",
              "      <td>RX 450</td>\n",
              "      <td>2010</td>\n",
              "      <td>Jeep</td>\n",
              "      <td>Yes</td>\n",
              "      <td>Hybrid</td>\n",
              "      <td>3.5</td>\n",
              "      <td>186005 km</td>\n",
              "      <td>6.0</td>\n",
              "      <td>Automatic</td>\n",
              "      <td>4x4</td>\n",
              "      <td>04-May</td>\n",
              "      <td>Left wheel</td>\n",
              "      <td>Silver</td>\n",
              "      <td>12</td>\n",
              "    </tr>\n",
              "    <tr>\n",
              "      <th>1</th>\n",
              "      <td>44731507</td>\n",
              "      <td>16621</td>\n",
              "      <td>1018</td>\n",
              "      <td>CHEVROLET</td>\n",
              "      <td>Equinox</td>\n",
              "      <td>2011</td>\n",
              "      <td>Jeep</td>\n",
              "      <td>No</td>\n",
              "      <td>Petrol</td>\n",
              "      <td>3</td>\n",
              "      <td>192000 km</td>\n",
              "      <td>6.0</td>\n",
              "      <td>Tiptronic</td>\n",
              "      <td>4x4</td>\n",
              "      <td>04-May</td>\n",
              "      <td>Left wheel</td>\n",
              "      <td>Black</td>\n",
              "      <td>8</td>\n",
              "    </tr>\n",
              "  </tbody>\n",
              "</table>\n",
              "</div>"
            ],
            "text/plain": [
              "         ID  Price  Levy Manufacturer  ...   Doors       Wheel   Color Airbags\n",
              "0  45654403  13328  1399        LEXUS  ...  04-May  Left wheel  Silver      12\n",
              "1  44731507  16621  1018    CHEVROLET  ...  04-May  Left wheel   Black       8\n",
              "\n",
              "[2 rows x 18 columns]"
            ]
          },
          "metadata": {
            "tags": []
          },
          "execution_count": 3
        }
      ]
    },
    {
      "cell_type": "code",
      "metadata": {
        "colab": {
          "base_uri": "https://localhost:8080/",
          "height": 0
        },
        "id": "J5W3SHXfhBvl",
        "outputId": "69c010fe-4f73-49a5-8006-52f50787771c"
      },
      "source": [
        "test.head(2)"
      ],
      "execution_count": 4,
      "outputs": [
        {
          "output_type": "execute_result",
          "data": {
            "text/html": [
              "<div>\n",
              "<style scoped>\n",
              "    .dataframe tbody tr th:only-of-type {\n",
              "        vertical-align: middle;\n",
              "    }\n",
              "\n",
              "    .dataframe tbody tr th {\n",
              "        vertical-align: top;\n",
              "    }\n",
              "\n",
              "    .dataframe thead th {\n",
              "        text-align: right;\n",
              "    }\n",
              "</style>\n",
              "<table border=\"1\" class=\"dataframe\">\n",
              "  <thead>\n",
              "    <tr style=\"text-align: right;\">\n",
              "      <th></th>\n",
              "      <th>ID</th>\n",
              "      <th>Levy</th>\n",
              "      <th>Manufacturer</th>\n",
              "      <th>Model</th>\n",
              "      <th>Prod. year</th>\n",
              "      <th>Category</th>\n",
              "      <th>Leather interior</th>\n",
              "      <th>Fuel type</th>\n",
              "      <th>Engine volume</th>\n",
              "      <th>Mileage</th>\n",
              "      <th>Cylinders</th>\n",
              "      <th>Gear box type</th>\n",
              "      <th>Drive wheels</th>\n",
              "      <th>Doors</th>\n",
              "      <th>Wheel</th>\n",
              "      <th>Color</th>\n",
              "      <th>Airbags</th>\n",
              "      <th>Price</th>\n",
              "    </tr>\n",
              "  </thead>\n",
              "  <tbody>\n",
              "    <tr>\n",
              "      <th>0</th>\n",
              "      <td>44020629</td>\n",
              "      <td>-</td>\n",
              "      <td>VOLKSWAGEN</td>\n",
              "      <td>Golf</td>\n",
              "      <td>2012</td>\n",
              "      <td>Hatchback</td>\n",
              "      <td>No</td>\n",
              "      <td>Diesel</td>\n",
              "      <td>2.0 Turbo</td>\n",
              "      <td>0 km</td>\n",
              "      <td>4</td>\n",
              "      <td>Manual</td>\n",
              "      <td>Front</td>\n",
              "      <td>02-Mar</td>\n",
              "      <td>Left wheel</td>\n",
              "      <td>Grey</td>\n",
              "      <td>10</td>\n",
              "      <td>NaN</td>\n",
              "    </tr>\n",
              "    <tr>\n",
              "      <th>1</th>\n",
              "      <td>45784798</td>\n",
              "      <td>-</td>\n",
              "      <td>HYUNDAI</td>\n",
              "      <td>Sonata</td>\n",
              "      <td>2012</td>\n",
              "      <td>Sedan</td>\n",
              "      <td>Yes</td>\n",
              "      <td>Petrol</td>\n",
              "      <td>2.4</td>\n",
              "      <td>26000 km</td>\n",
              "      <td>4</td>\n",
              "      <td>Tiptronic</td>\n",
              "      <td>Front</td>\n",
              "      <td>04-May</td>\n",
              "      <td>Left wheel</td>\n",
              "      <td>Grey</td>\n",
              "      <td>10</td>\n",
              "      <td>NaN</td>\n",
              "    </tr>\n",
              "  </tbody>\n",
              "</table>\n",
              "</div>"
            ],
            "text/plain": [
              "         ID Levy Manufacturer   Model  ...       Wheel Color Airbags Price\n",
              "0  44020629    -   VOLKSWAGEN    Golf  ...  Left wheel  Grey      10   NaN\n",
              "1  45784798    -      HYUNDAI  Sonata  ...  Left wheel  Grey      10   NaN\n",
              "\n",
              "[2 rows x 18 columns]"
            ]
          },
          "metadata": {
            "tags": []
          },
          "execution_count": 4
        }
      ]
    },
    {
      "cell_type": "code",
      "metadata": {
        "colab": {
          "base_uri": "https://localhost:8080/"
        },
        "id": "w_JKringhBvm",
        "outputId": "a3ee04c1-f086-46e4-bd72-3d13a09476b0"
      },
      "source": [
        "#print dataset shape\n",
        "print(\"Train datast shape \",train.shape)\n",
        "print(\"Test dataset shape\",test.shape)"
      ],
      "execution_count": 5,
      "outputs": [
        {
          "output_type": "stream",
          "text": [
            "Train datast shape  (19237, 18)\n",
            "Test dataset shape (8245, 18)\n"
          ],
          "name": "stdout"
        }
      ]
    },
    {
      "cell_type": "markdown",
      "metadata": {
        "id": "XcrTyuoNjZAs"
      },
      "source": [
        "# 2. Exploratory Data Analysis "
      ]
    },
    {
      "cell_type": "code",
      "metadata": {
        "colab": {
          "base_uri": "https://localhost:8080/"
        },
        "id": "zc9nrZFahBvn",
        "outputId": "4061a754-68a6-48f3-e138-777ac70471ec"
      },
      "source": [
        "#Now drop the  'Id' colum since it's unnecessary for  the prediction process.\n",
        "train.drop(\"ID\", axis = 1, inplace = True)\n",
        "test.drop(\"ID\", axis = 1, inplace = True)\n",
        "\n",
        "#check again the data size after dropping the 'Id' variable\n",
        "print(\"\\nThe train data size after dropping Id feature is : {} \".format(train.shape)) \n",
        "print(\"The test data size after dropping Id feature is : {} \".format(test.shape))"
      ],
      "execution_count": 6,
      "outputs": [
        {
          "output_type": "stream",
          "text": [
            "\n",
            "The train data size after dropping Id feature is : (19237, 17) \n",
            "The test data size after dropping Id feature is : (8245, 17) \n"
          ],
          "name": "stdout"
        }
      ]
    },
    {
      "cell_type": "markdown",
      "metadata": {
        "id": "uvFUlcGGhBvo"
      },
      "source": [
        "### Outliers"
      ]
    },
    {
      "cell_type": "code",
      "metadata": {
        "colab": {
          "base_uri": "https://localhost:8080/"
        },
        "id": "5S8fBnqIu7f0",
        "outputId": "dae33df6-2a29-4ac1-f7f2-e3df58b1202c"
      },
      "source": [
        "# Start with price\n",
        "# Check for the percentile range, mean and std of price values\n",
        "train['Price'].describe(percentiles=[0,0.25,0.5,0.75,0.8,0.9,1])"
      ],
      "execution_count": 7,
      "outputs": [
        {
          "output_type": "execute_result",
          "data": {
            "text/plain": [
              "count    1.923700e+04\n",
              "mean     1.855593e+04\n",
              "std      1.905813e+05\n",
              "min      1.000000e+00\n",
              "0%       1.000000e+00\n",
              "25%      5.331000e+03\n",
              "50%      1.317200e+04\n",
              "75%      2.207500e+04\n",
              "80%      2.551200e+04\n",
              "90%      3.860900e+04\n",
              "100%     2.630750e+07\n",
              "max      2.630750e+07\n",
              "Name: Price, dtype: float64"
            ]
          },
          "metadata": {
            "tags": []
          },
          "execution_count": 7
        }
      ]
    },
    {
      "cell_type": "code",
      "metadata": {
        "colab": {
          "base_uri": "https://localhost:8080/",
          "height": 0
        },
        "id": "g937LnSFwe-5",
        "outputId": "f0249869-48af-4f70-86dc-bdff78329943"
      },
      "source": [
        "# Plot price distribution\n",
        "fig, axs = plt.subplots(1,2,figsize=(10,4))\n",
        "sns.distplot(train['Price'],ax=axs[0])\n",
        "\n",
        "#Remove price values  greater than 1e7\n",
        "train[(train['Price']>15e4)] = train['Price'].mode()[0]\n",
        "\n",
        "sns.distplot(train['Price'],ax=axs[1])"
      ],
      "execution_count": 8,
      "outputs": [
        {
          "output_type": "execute_result",
          "data": {
            "text/plain": [
              "<matplotlib.axes._subplots.AxesSubplot at 0x7f661e1eb5d0>"
            ]
          },
          "metadata": {
            "tags": []
          },
          "execution_count": 8
        },
        {
          "output_type": "display_data",
          "data": {
            "image/png": "[encoded data removed]",
            "text/plain": [
              "<Figure size 720x288 with 2 Axes>"
            ]
          },
          "metadata": {
            "tags": [],
            "needs_background": "light"
          }
        }
      ]
    },
    {
      "cell_type": "code",
      "metadata": {
        "colab": {
          "base_uri": "https://localhost:8080/",
          "height": 0
        },
        "id": "oPtogxgihBvr",
        "outputId": "66c8cecb-72a1-47c3-d346-de2ee8352d14"
      },
      "source": [
        "#Price is the variable we need to predict. So let's do some analysis on this variable first.\n",
        "\n",
        "sns.distplot(train['Price'] , fit=norm);\n",
        "\n",
        "# Get the fitted parameters used by the function\n",
        "(mu, sigma) = norm.fit(train['Price'])\n",
        "print( '\\n mu = {:.2f} and sigma = {:.2f}\\n'.format(mu, sigma))\n",
        "\n",
        "#Now plot the distribution\n",
        "plt.legend(['Normal dist. ($\\mu=$ {:.2f} and $\\sigma=$ {:.2f} )'.format(mu, sigma)],\n",
        "            loc='best')\n",
        "plt.ylabel('Frequency')\n",
        "plt.title('SalePrice distribution')\n",
        "\n",
        "#Get also the QQ-plot\n",
        "fig = plt.figure()\n",
        "res = stats.probplot(train['Price'], plot=plt)\n",
        "plt.show()\n"
      ],
      "execution_count": 9,
      "outputs": [
        {
          "output_type": "stream",
          "text": [
            "\n",
            " mu = 16873.77 and sigma = 16895.90\n",
            "\n"
          ],
          "name": "stdout"
        },
        {
          "output_type": "display_data",
          "data": {
            "image/png": "[encoded data removed]",
            "text/plain": [
              "<Figure size 432x288 with 1 Axes>"
            ]
          },
          "metadata": {
            "tags": [],
            "needs_background": "light"
          }
        },
        {
          "output_type": "display_data",
          "data": {
            "image/png": "[encoded data removed]",
            "text/plain": [
              "<Figure size 432x288 with 1 Axes>"
            ]
          },
          "metadata": {
            "tags": [],
            "needs_background": "light"
          }
        }
      ]
    },
    {
      "cell_type": "markdown",
      "metadata": {
        "id": "29b4YESthBvs"
      },
      "source": [
        "The target variable is right skewed.  As (linear) models love normally distributed data , we need to transform this variable and make it more normally distributed."
      ]
    },
    {
      "cell_type": "code",
      "metadata": {
        "colab": {
          "base_uri": "https://localhost:8080/",
          "height": 0
        },
        "id": "l69sZMZIhBvu",
        "outputId": "bf194904-163d-4d08-dc17-e09d2d3f8359"
      },
      "source": [
        "train.head()"
      ],
      "execution_count": 10,
      "outputs": [
        {
          "output_type": "execute_result",
          "data": {
            "text/html": [
              "<div>\n",
              "<style scoped>\n",
              "    .dataframe tbody tr th:only-of-type {\n",
              "        vertical-align: middle;\n",
              "    }\n",
              "\n",
              "    .dataframe tbody tr th {\n",
              "        vertical-align: top;\n",
              "    }\n",
              "\n",
              "    .dataframe thead th {\n",
              "        text-align: right;\n",
              "    }\n",
              "</style>\n",
              "<table border=\"1\" class=\"dataframe\">\n",
              "  <thead>\n",
              "    <tr style=\"text-align: right;\">\n",
              "      <th></th>\n",
              "      <th>Price</th>\n",
              "      <th>Levy</th>\n",
              "      <th>Manufacturer</th>\n",
              "      <th>Model</th>\n",
              "      <th>Prod. year</th>\n",
              "      <th>Category</th>\n",
              "      <th>Leather interior</th>\n",
              "      <th>Fuel type</th>\n",
              "      <th>Engine volume</th>\n",
              "      <th>Mileage</th>\n",
              "      <th>Cylinders</th>\n",
              "      <th>Gear box type</th>\n",
              "      <th>Drive wheels</th>\n",
              "      <th>Doors</th>\n",
              "      <th>Wheel</th>\n",
              "      <th>Color</th>\n",
              "      <th>Airbags</th>\n",
              "    </tr>\n",
              "  </thead>\n",
              "  <tbody>\n",
              "    <tr>\n",
              "      <th>0</th>\n",
              "      <td>13328</td>\n",
              "      <td>1399</td>\n",
              "      <td>LEXUS</td>\n",
              "      <td>RX 450</td>\n",
              "      <td>2010</td>\n",
              "      <td>Jeep</td>\n",
              "      <td>Yes</td>\n",
              "      <td>Hybrid</td>\n",
              "      <td>3.5</td>\n",
              "      <td>186005 km</td>\n",
              "      <td>6.0</td>\n",
              "      <td>Automatic</td>\n",
              "      <td>4x4</td>\n",
              "      <td>04-May</td>\n",
              "      <td>Left wheel</td>\n",
              "      <td>Silver</td>\n",
              "      <td>12</td>\n",
              "    </tr>\n",
              "    <tr>\n",
              "      <th>1</th>\n",
              "      <td>16621</td>\n",
              "      <td>1018</td>\n",
              "      <td>CHEVROLET</td>\n",
              "      <td>Equinox</td>\n",
              "      <td>2011</td>\n",
              "      <td>Jeep</td>\n",
              "      <td>No</td>\n",
              "      <td>Petrol</td>\n",
              "      <td>3</td>\n",
              "      <td>192000 km</td>\n",
              "      <td>6.0</td>\n",
              "      <td>Tiptronic</td>\n",
              "      <td>4x4</td>\n",
              "      <td>04-May</td>\n",
              "      <td>Left wheel</td>\n",
              "      <td>Black</td>\n",
              "      <td>8</td>\n",
              "    </tr>\n",
              "    <tr>\n",
              "      <th>2</th>\n",
              "      <td>8467</td>\n",
              "      <td>-</td>\n",
              "      <td>HONDA</td>\n",
              "      <td>FIT</td>\n",
              "      <td>2006</td>\n",
              "      <td>Hatchback</td>\n",
              "      <td>No</td>\n",
              "      <td>Petrol</td>\n",
              "      <td>1.3</td>\n",
              "      <td>200000 km</td>\n",
              "      <td>4.0</td>\n",
              "      <td>Variator</td>\n",
              "      <td>Front</td>\n",
              "      <td>04-May</td>\n",
              "      <td>Right-hand drive</td>\n",
              "      <td>Black</td>\n",
              "      <td>2</td>\n",
              "    </tr>\n",
              "    <tr>\n",
              "      <th>3</th>\n",
              "      <td>3607</td>\n",
              "      <td>862</td>\n",
              "      <td>FORD</td>\n",
              "      <td>Escape</td>\n",
              "      <td>2011</td>\n",
              "      <td>Jeep</td>\n",
              "      <td>Yes</td>\n",
              "      <td>Hybrid</td>\n",
              "      <td>2.5</td>\n",
              "      <td>168966 km</td>\n",
              "      <td>4.0</td>\n",
              "      <td>Automatic</td>\n",
              "      <td>4x4</td>\n",
              "      <td>04-May</td>\n",
              "      <td>Left wheel</td>\n",
              "      <td>White</td>\n",
              "      <td>0</td>\n",
              "    </tr>\n",
              "    <tr>\n",
              "      <th>4</th>\n",
              "      <td>11726</td>\n",
              "      <td>446</td>\n",
              "      <td>HONDA</td>\n",
              "      <td>FIT</td>\n",
              "      <td>2014</td>\n",
              "      <td>Hatchback</td>\n",
              "      <td>Yes</td>\n",
              "      <td>Petrol</td>\n",
              "      <td>1.3</td>\n",
              "      <td>91901 km</td>\n",
              "      <td>4.0</td>\n",
              "      <td>Automatic</td>\n",
              "      <td>Front</td>\n",
              "      <td>04-May</td>\n",
              "      <td>Left wheel</td>\n",
              "      <td>Silver</td>\n",
              "      <td>4</td>\n",
              "    </tr>\n",
              "  </tbody>\n",
              "</table>\n",
              "</div>"
            ],
            "text/plain": [
              "   Price  Levy Manufacturer    Model  ...   Doors             Wheel   Color Airbags\n",
              "0  13328  1399        LEXUS   RX 450  ...  04-May        Left wheel  Silver      12\n",
              "1  16621  1018    CHEVROLET  Equinox  ...  04-May        Left wheel   Black       8\n",
              "2   8467     -        HONDA      FIT  ...  04-May  Right-hand drive   Black       2\n",
              "3   3607   862         FORD   Escape  ...  04-May        Left wheel   White       0\n",
              "4  11726   446        HONDA      FIT  ...  04-May        Left wheel  Silver       4\n",
              "\n",
              "[5 rows x 17 columns]"
            ]
          },
          "metadata": {
            "tags": []
          },
          "execution_count": 10
        }
      ]
    },
    {
      "cell_type": "code",
      "metadata": {
        "id": "tEg19AzfhBvu"
      },
      "source": [
        "# We have to do some feature extractions \n",
        "# Separate out the categorical features and numerical features \n",
        "cat_features = [feature for feature in train.columns if train[feature].dtype==\"O\"]\n",
        "num_features = [feature for feature in train.columns if train[feature].dtype!=\"O\"]"
      ],
      "execution_count": 11,
      "outputs": []
    },
    {
      "cell_type": "code",
      "metadata": {
        "colab": {
          "base_uri": "https://localhost:8080/"
        },
        "id": "tjYF_I43hBvv",
        "outputId": "021c0279-e92e-4ccb-8141-f6ac359cbd87"
      },
      "source": [
        "num_features ,cat_features"
      ],
      "execution_count": 12,
      "outputs": [
        {
          "output_type": "execute_result",
          "data": {
            "text/plain": [
              "(['Price', 'Prod. year', 'Cylinders', 'Airbags'],\n",
              " ['Levy',\n",
              "  'Manufacturer',\n",
              "  'Model',\n",
              "  'Category',\n",
              "  'Leather interior',\n",
              "  'Fuel type',\n",
              "  'Engine volume',\n",
              "  'Mileage',\n",
              "  'Gear box type',\n",
              "  'Drive wheels',\n",
              "  'Doors',\n",
              "  'Wheel',\n",
              "  'Color'])"
            ]
          },
          "metadata": {
            "tags": []
          },
          "execution_count": 12
        }
      ]
    },
    {
      "cell_type": "code",
      "metadata": {
        "id": "Oz_QCPoWhBvv"
      },
      "source": [
        "#Convert Numerical to categorical if any is there\n",
        "#Cylinders\n",
        "#train['Cylinders'].value_counts()\n",
        "train['Cylinders'] = train['Cylinders'].apply(str)\n",
        "test['Cylinders'] = test['Cylinders'].apply(str)"
      ],
      "execution_count": 13,
      "outputs": []
    },
    {
      "cell_type": "code",
      "metadata": {
        "id": "kRaZxdgRhBvw"
      },
      "source": [
        "#Airbags\n",
        "#train['Airbags'].value_counts()\n",
        "train['Airbags'] = train['Airbags'].apply(str)\n",
        "test['Airbags'] = test['Airbags'].apply(str)"
      ],
      "execution_count": 14,
      "outputs": []
    },
    {
      "cell_type": "code",
      "metadata": {
        "id": "o9nCnC9RhBvw"
      },
      "source": [
        "#Later think about Prod year and Engine volume"
      ],
      "execution_count": 15,
      "outputs": []
    },
    {
      "cell_type": "code",
      "metadata": {
        "colab": {
          "base_uri": "https://localhost:8080/"
        },
        "id": "McV1NiWchBvw",
        "outputId": "291afc50-8694-4670-eed4-85d3c3b6511c"
      },
      "source": [
        "for feature in cat_features:\n",
        "    print('Unique features in {} : {}'.format(feature,len(train[feature].unique())))"
      ],
      "execution_count": 16,
      "outputs": [
        {
          "output_type": "stream",
          "text": [
            "Unique features in Levy : 558\n",
            "Unique features in Manufacturer : 64\n",
            "Unique features in Model : 1578\n",
            "Unique features in Category : 12\n",
            "Unique features in Leather interior : 3\n",
            "Unique features in Fuel type : 8\n",
            "Unique features in Engine volume : 105\n",
            "Unique features in Mileage : 7680\n",
            "Unique features in Gear box type : 5\n",
            "Unique features in Drive wheels : 4\n",
            "Unique features in Doors : 4\n",
            "Unique features in Wheel : 3\n",
            "Unique features in Color : 17\n"
          ],
          "name": "stdout"
        }
      ]
    },
    {
      "cell_type": "code",
      "metadata": {
        "id": "nPanOtKBhBvx"
      },
      "source": [
        "# Convert object to Numerical\n",
        "# Levy,Mileage,Engine volume"
      ],
      "execution_count": 17,
      "outputs": []
    },
    {
      "cell_type": "code",
      "metadata": {
        "id": "EWY5ocbLhBvx"
      },
      "source": [
        "# Engine volume - Train \n",
        "train['Turbulance']=train['Engine volume'].replace(['2.0 Turbo', '2.2 Turbo','3.0 Turbo','1.4 Turbo','1.5 Turbo', '1.6 Turbo','2.3 Turbo','2.8 Turbo','1.8 Turbo', '2.4 Turbo', '3.5 Turbo', '3.2 Turbo','1.3 Turbo','2.5 Turbo','1.9 Turbo', '4.4 Turbo', '4.7 Turbo', '0.2 Turbo','4.8 Turbo', '4.6 Turbo','1.2 Turbo','1.7 Turbo', '6.3 Turbo', '2.7 Turbo','2.9 Turbo', '4.0 Turbo','3.6 Turbo','3.7 Turbo','5.5 Turbo','2.1 Turbo','0.7 Turbo', '0.6 Turbo','1.0 Turbo', '4.5 Turbo', '0.8 Turbo', '4.2 Turbo', '3.1', '5.0 Turbo','5.7 Turbo','0.4 Turbo', '5.4 Turbo', '0.3 Turbo','1.1 Turbo'],'Turbo')\n",
        "\n",
        "train['Turbulance']=train['Turbulance'].replace(['3.5','3','1.3','2.5','2','1.8','2.4','4','1.6','3.3','4.7','1.5','4.4','3.6','2.3','2.2','1.4','5.5','3.2','3.8','4.6','1.2','5', '1.7', '2.9', '0.5','1.9','2.7','4.8','5.3','0.4','2.8','1.1','2.1','0.7','5.4','3.7','1','2.6','5.7','3.4','4.3','4.2','5.9','6.8','4.5','0.6','7.3','0.1','6.3','6.4','5.2','5.8','0.8', '6.7', '6.2', '0', '20', '0.3', '0.2','5.6', '6', '3.9', '0.9'],'Non-Turbo')\n"
      ],
      "execution_count": 18,
      "outputs": []
    },
    {
      "cell_type": "code",
      "metadata": {
        "id": "NT9490zWhBvx"
      },
      "source": [
        "#Engine volume - test\n",
        "test['Turbulance']=test['Engine volume'].replace(['2.0 Turbo', '2.2 Turbo','3.0 Turbo','1.4 Turbo','1.5 Turbo', '1.6 Turbo','2.3 Turbo','2.8 Turbo','1.8 Turbo', '2.4 Turbo', '3.5 Turbo', '3.2 Turbo','1.3 Turbo','2.5 Turbo','1.9 Turbo', '4.4 Turbo', '4.7 Turbo', '0.2 Turbo','4.8 Turbo', '4.6 Turbo','1.2 Turbo','1.7 Turbo', '6.3 Turbo', '2.7 Turbo','2.9 Turbo', '4.0 Turbo','3.6 Turbo','3.7 Turbo','5.5 Turbo','2.1 Turbo','0.7 Turbo', '0.6 Turbo','1.0 Turbo', '4.5 Turbo', '0.8 Turbo', '4.2 Turbo', '3.1', '5.0 Turbo','5.7 Turbo','0.4 Turbo', '5.4 Turbo', '0.3 Turbo','1.1 Turbo','6.0 Turbo','2.6 Turbo'],'Turbo')\n",
        "\n",
        "test['Turbulance']=test['Turbulance'].replace(['3.5','3','1.3','2.5','2','1.8','2.4','4','1.6','3.3','4.7','1.5','4.4','3.6','2.3','2.2','1.4','5.5','3.2','3.8','4.6','1.2','5', '1.7', '2.9', '0.5','1.9','2.7','4.8','5.3','0.4','2.8','1.1','2.1','0.7','5.4','3.7','1','2.6','5.7','3.4','4.3','4.2','5.9','6.8','4.5','0.6','7.3','0.1','6.3','6.4','5.2','5.8','0.8', '6.7', '6.2', '0', '20', '0.3', '0.2','5.6', '6', '3.9', '0.9','6.6', '6.1', '10.8'],'Non-Turbo')"
      ],
      "execution_count": 19,
      "outputs": []
    },
    {
      "cell_type": "code",
      "metadata": {
        "id": "mzxegtPdhBvy"
      },
      "source": [
        "# remove Turbo - Train\n",
        "train['Engine volume'] = train['Engine volume'].str.replace('Turbo',' ')\n",
        "# Str to float\n",
        "train['Engine volume'] = train['Engine volume'].astype(float)\n",
        "\n",
        "# remove Turbo - Test\n",
        "test['Engine volume'] = test['Engine volume'].str.replace('Turbo',' ')\n",
        "# Str to float\n",
        "test['Engine volume'] = test['Engine volume'].astype(float)"
      ],
      "execution_count": 20,
      "outputs": []
    },
    {
      "cell_type": "code",
      "metadata": {
        "id": "Nf5mcQS9hBvy"
      },
      "source": [
        "# Mileage - Train\n",
        "train['Mileage'] = train['Mileage'].str.replace('km',' ')\n",
        "train['Mileage'] = train[\"Mileage\"].astype(float)\n",
        "\n",
        "# Mileage  -Test\n",
        "test['Mileage'] = test['Mileage'].str.replace('km',' ')\n",
        "test['Mileage'] = test[\"Mileage\"].astype(float)"
      ],
      "execution_count": 21,
      "outputs": []
    },
    {
      "cell_type": "code",
      "metadata": {
        "id": "dme4eeK6hBvy"
      },
      "source": [
        "# Levy - train\n",
        "train['Levy']= train['Levy'].replace({'-':np.nan})\n",
        "train[\"Levy\"]= train[\"Levy\"].astype(float)\n",
        "\n",
        "# Levy - Test\n",
        "test['Levy']= test['Levy'].replace({'-':np.nan})\n",
        "test[\"Levy\"]= test[\"Levy\"].astype(float)"
      ],
      "execution_count": 22,
      "outputs": []
    },
    {
      "cell_type": "code",
      "metadata": {
        "colab": {
          "base_uri": "https://localhost:8080/"
        },
        "id": "1qY6BwvjhBvz",
        "outputId": "a739f9d1-fb07-4a80-882e-e4334e2d0021"
      },
      "source": [
        "# Check for the null values\n",
        "train.isnull().sum()"
      ],
      "execution_count": 23,
      "outputs": [
        {
          "output_type": "execute_result",
          "data": {
            "text/plain": [
              "Price                  0\n",
              "Levy                5802\n",
              "Manufacturer           0\n",
              "Model                  0\n",
              "Prod. year             0\n",
              "Category               0\n",
              "Leather interior       0\n",
              "Fuel type              0\n",
              "Engine volume         27\n",
              "Mileage               27\n",
              "Cylinders              0\n",
              "Gear box type          0\n",
              "Drive wheels           0\n",
              "Doors                  0\n",
              "Wheel                  0\n",
              "Color                  0\n",
              "Airbags                0\n",
              "Turbulance             0\n",
              "dtype: int64"
            ]
          },
          "metadata": {
            "tags": []
          },
          "execution_count": 23
        }
      ]
    },
    {
      "cell_type": "code",
      "metadata": {
        "id": "VE56yjpwhBvz"
      },
      "source": [
        "# Since there ar outlies we can replace the Nan with mode value\n",
        "train['Levy'] = train['Levy'].fillna(train['Levy'].mode()[0])\n",
        "train['Engine volume'] = train['Engine volume'].fillna(train['Engine volume'].mode()[0])\n",
        "train['Mileage'] = train['Mileage'].fillna(train['Mileage'].mode()[0])\n",
        "\n",
        "test['Levy'] = test['Levy'].fillna(test['Levy'].mode()[0])"
      ],
      "execution_count": 24,
      "outputs": []
    },
    {
      "cell_type": "markdown",
      "metadata": {
        "id": "MOy5dMlRhBv0"
      },
      "source": [
        "Label Encoding some categorical variables that may contain information in their ordering set"
      ]
    },
    {
      "cell_type": "code",
      "metadata": {
        "colab": {
          "base_uri": "https://localhost:8080/"
        },
        "id": "4-RPMDNAhBv0",
        "outputId": "2bfb5fc9-3092-47b2-ce35-4e6850cd9f40"
      },
      "source": [
        "from sklearn.preprocessing import LabelEncoder\n",
        "cols = ('Cylinders','Gear box type','Drive wheels','Doors','Airbags')\n",
        "# process columns, apply LabelEncoder to categorical features\n",
        "for c in cols:\n",
        "    lbl = LabelEncoder() \n",
        "    lbl.fit(list(train[c].values)) \n",
        "    train[c] = lbl.transform(list(train[c].values))\n",
        "    test[c]  = lbl.fit_transform(list(test[c].values))\n",
        "# shape        \n",
        "print('Shape all_data: {}'.format(train.shape))\n",
        "print('Shape all_data: {}'.format(test.shape))"
      ],
      "execution_count": 25,
      "outputs": [
        {
          "output_type": "stream",
          "text": [
            "Shape all_data: (19237, 18)\n",
            "Shape all_data: (8245, 18)\n"
          ],
          "name": "stdout"
        }
      ]
    },
    {
      "cell_type": "code",
      "metadata": {
        "colab": {
          "base_uri": "https://localhost:8080/",
          "height": 0
        },
        "id": "jb80UJrNhBv2",
        "outputId": "66efd044-5e47-40ac-a617-cb7a5dfd1515"
      },
      "source": [
        "train.select_dtypes(include=np.number).head()"
      ],
      "execution_count": 26,
      "outputs": [
        {
          "output_type": "execute_result",
          "data": {
            "text/html": [
              "<div>\n",
              "<style scoped>\n",
              "    .dataframe tbody tr th:only-of-type {\n",
              "        vertical-align: middle;\n",
              "    }\n",
              "\n",
              "    .dataframe tbody tr th {\n",
              "        vertical-align: top;\n",
              "    }\n",
              "\n",
              "    .dataframe thead th {\n",
              "        text-align: right;\n",
              "    }\n",
              "</style>\n",
              "<table border=\"1\" class=\"dataframe\">\n",
              "  <thead>\n",
              "    <tr style=\"text-align: right;\">\n",
              "      <th></th>\n",
              "      <th>Price</th>\n",
              "      <th>Levy</th>\n",
              "      <th>Prod. year</th>\n",
              "      <th>Engine volume</th>\n",
              "      <th>Mileage</th>\n",
              "      <th>Cylinders</th>\n",
              "      <th>Gear box type</th>\n",
              "      <th>Drive wheels</th>\n",
              "      <th>Doors</th>\n",
              "      <th>Airbags</th>\n",
              "    </tr>\n",
              "  </thead>\n",
              "  <tbody>\n",
              "    <tr>\n",
              "      <th>0</th>\n",
              "      <td>13328</td>\n",
              "      <td>1399.0</td>\n",
              "      <td>2010</td>\n",
              "      <td>3.5</td>\n",
              "      <td>186005.0</td>\n",
              "      <td>10</td>\n",
              "      <td>1</td>\n",
              "      <td>1</td>\n",
              "      <td>1</td>\n",
              "      <td>4</td>\n",
              "    </tr>\n",
              "    <tr>\n",
              "      <th>1</th>\n",
              "      <td>16621</td>\n",
              "      <td>1018.0</td>\n",
              "      <td>2011</td>\n",
              "      <td>3.0</td>\n",
              "      <td>192000.0</td>\n",
              "      <td>10</td>\n",
              "      <td>3</td>\n",
              "      <td>1</td>\n",
              "      <td>1</td>\n",
              "      <td>16</td>\n",
              "    </tr>\n",
              "    <tr>\n",
              "      <th>2</th>\n",
              "      <td>8467</td>\n",
              "      <td>765.0</td>\n",
              "      <td>2006</td>\n",
              "      <td>1.3</td>\n",
              "      <td>200000.0</td>\n",
              "      <td>8</td>\n",
              "      <td>4</td>\n",
              "      <td>2</td>\n",
              "      <td>1</td>\n",
              "      <td>10</td>\n",
              "    </tr>\n",
              "    <tr>\n",
              "      <th>3</th>\n",
              "      <td>3607</td>\n",
              "      <td>862.0</td>\n",
              "      <td>2011</td>\n",
              "      <td>2.5</td>\n",
              "      <td>168966.0</td>\n",
              "      <td>8</td>\n",
              "      <td>1</td>\n",
              "      <td>1</td>\n",
              "      <td>1</td>\n",
              "      <td>0</td>\n",
              "    </tr>\n",
              "    <tr>\n",
              "      <th>4</th>\n",
              "      <td>11726</td>\n",
              "      <td>446.0</td>\n",
              "      <td>2014</td>\n",
              "      <td>1.3</td>\n",
              "      <td>91901.0</td>\n",
              "      <td>8</td>\n",
              "      <td>1</td>\n",
              "      <td>2</td>\n",
              "      <td>1</td>\n",
              "      <td>12</td>\n",
              "    </tr>\n",
              "  </tbody>\n",
              "</table>\n",
              "</div>"
            ],
            "text/plain": [
              "   Price    Levy  Prod. year  ...  Drive wheels  Doors  Airbags\n",
              "0  13328  1399.0        2010  ...             1      1        4\n",
              "1  16621  1018.0        2011  ...             1      1       16\n",
              "2   8467   765.0        2006  ...             2      1       10\n",
              "3   3607   862.0        2011  ...             1      1        0\n",
              "4  11726   446.0        2014  ...             2      1       12\n",
              "\n",
              "[5 rows x 10 columns]"
            ]
          },
          "metadata": {
            "tags": []
          },
          "execution_count": 26
        }
      ]
    },
    {
      "cell_type": "code",
      "metadata": {
        "id": "eT6iqfnohBv2"
      },
      "source": [
        "# Check for the outliers in the following columns\n",
        "#Levy, Prod.year, Engien volume, Mileage"
      ],
      "execution_count": 27,
      "outputs": []
    },
    {
      "cell_type": "code",
      "metadata": {
        "colab": {
          "base_uri": "https://localhost:8080/",
          "height": 0
        },
        "id": "qqBrNdF70cfZ",
        "outputId": "a28cd4ac-15d9-4f53-fbb5-ef3566750161"
      },
      "source": [
        "# Levy\n",
        "plt.figure(figsize=(10,3))\n",
        "plt.scatter(train['Levy'],train['Price'])\n",
        "plt.xlabel('Levy')\n",
        "plt.ylabel('Price')\n"
      ],
      "execution_count": 28,
      "outputs": [
        {
          "output_type": "execute_result",
          "data": {
            "text/plain": [
              "Text(0, 0.5, 'Price')"
            ]
          },
          "metadata": {
            "tags": []
          },
          "execution_count": 28
        },
        {
          "output_type": "display_data",
          "data": {
            "image/png": "[encoded data removed]",
            "text/plain": [
              "<Figure size 720x216 with 1 Axes>"
            ]
          },
          "metadata": {
            "tags": [],
            "needs_background": "light"
          }
        }
      ]
    },
    {
      "cell_type": "code",
      "metadata": {
        "colab": {
          "base_uri": "https://localhost:8080/",
          "height": 0
        },
        "id": "AdwA56ZG0KUB",
        "outputId": "3fc2f953-1675-446b-ea68-21eeb1b7b375"
      },
      "source": [
        "fig,axs = plt.subplots(1,2,figsize=(12,3))\n",
        "sns.boxplot(train['Levy'],ax=axs[0])\n",
        "Q1 = train['Levy'].quantile(0.25)\n",
        "Q3 = train['Levy'].quantile(0.75)\n",
        "IQR = Q3-Q1\n",
        "print(Q1-1.5*IQR,Q3+1.5*IQR)\n",
        "# We can replace the values outside the iqr range\n",
        "filter = (train['Levy']<Q1-1.5*IQR) | (train['Levy']>Q3+1.5*IQR)\n",
        "train['Levy'][filter] = train['Levy'].mode()[0]\n",
        "\n",
        "sns.boxplot(train['Levy'],ax=axs[1])"
      ],
      "execution_count": 29,
      "outputs": [
        {
          "output_type": "stream",
          "text": [
            "449.5 1197.5\n"
          ],
          "name": "stdout"
        },
        {
          "output_type": "execute_result",
          "data": {
            "text/plain": [
              "<matplotlib.axes._subplots.AxesSubplot at 0x7f66122e7b90>"
            ]
          },
          "metadata": {
            "tags": []
          },
          "execution_count": 29
        },
        {
          "output_type": "display_data",
          "data": {
            "image/png": "[encoded data removed]",
            "text/plain": [
              "<Figure size 864x216 with 2 Axes>"
            ]
          },
          "metadata": {
            "tags": [],
            "needs_background": "light"
          }
        }
      ]
    },
    {
      "cell_type": "code",
      "metadata": {
        "colab": {
          "base_uri": "https://localhost:8080/",
          "height": 0
        },
        "id": "B6ArnYAz8uIj",
        "outputId": "f920fb04-efc2-4b25-9d97-0d5afa1c5527"
      },
      "source": [
        "# Levy\n",
        "plt.figure(figsize=(10,3))\n",
        "plt.scatter(train['Levy'],train['Price'])\n",
        "plt.xlabel('Levy')\n",
        "plt.ylabel('Price')"
      ],
      "execution_count": 30,
      "outputs": [
        {
          "output_type": "execute_result",
          "data": {
            "text/plain": [
              "Text(0, 0.5, 'Price')"
            ]
          },
          "metadata": {
            "tags": []
          },
          "execution_count": 30
        },
        {
          "output_type": "display_data",
          "data": {
            "image/png": "[encoded data removed]",
            "text/plain": [
              "<Figure size 720x216 with 1 Axes>"
            ]
          },
          "metadata": {
            "tags": [],
            "needs_background": "light"
          }
        }
      ]
    },
    {
      "cell_type": "code",
      "metadata": {
        "colab": {
          "base_uri": "https://localhost:8080/",
          "height": 0
        },
        "id": "OeclniI3hBv3",
        "outputId": "df667843-8305-45b1-b749-27de3f7fe2cf"
      },
      "source": [
        "# Test data\n",
        "plt.figure(figsize=(8,2))\n",
        "sns.boxplot(test['Levy'])"
      ],
      "execution_count": 31,
      "outputs": [
        {
          "output_type": "execute_result",
          "data": {
            "text/plain": [
              "<matplotlib.axes._subplots.AxesSubplot at 0x7f66125d4a50>"
            ]
          },
          "metadata": {
            "tags": []
          },
          "execution_count": 31
        },
        {
          "output_type": "display_data",
          "data": {
            "image/png": "[encoded data removed]",
            "text/plain": [
              "<Figure size 576x144 with 1 Axes>"
            ]
          },
          "metadata": {
            "tags": [],
            "needs_background": "light"
          }
        }
      ]
    },
    {
      "cell_type": "code",
      "metadata": {
        "colab": {
          "base_uri": "https://localhost:8080/",
          "height": 0
        },
        "id": "2JWg4Z-gIqia",
        "outputId": "291aca14-e8d4-48d5-97e5-41da9c21b02a"
      },
      "source": [
        "# Prod. year - train\n",
        "fig,axs = plt.subplots(1,2,figsize=(16,3))\n",
        "sns.boxplot(train['Prod. year'],ax=axs[0])\n",
        "Q1 = train['Prod. year'].quantile(0.25)\n",
        "Q3 = train['Prod. year'].quantile(0.75)\n",
        "IQR = Q3-Q1\n",
        "print(Q1-1.5*IQR,Q3+1.5*IQR)\n",
        "\n",
        " #We can replace the values outside the iqr range\n",
        "filter = (train['Prod. year']< 1990) | (train['Prod. year']>Q3+1.5*IQR)\n",
        "train['Prod. year'][filter] = train['Prod. year'].mode()[0]\n",
        "\n",
        "sns.boxplot(train['Prod. year'],ax=axs[1])\n",
        "plt.xticks(rotation=90)"
      ],
      "execution_count": 32,
      "outputs": [
        {
          "output_type": "stream",
          "text": [
            "2000.0 2024.0\n"
          ],
          "name": "stdout"
        },
        {
          "output_type": "execute_result",
          "data": {
            "text/plain": [
              "(array([1985., 1990., 1995., 2000., 2005., 2010., 2015., 2020., 2025.]),\n",
              " <a list of 9 Text major ticklabel objects>)"
            ]
          },
          "metadata": {
            "tags": []
          },
          "execution_count": 32
        },
        {
          "output_type": "display_data",
          "data": {
            "image/png": "[encoded data removed]",
            "text/plain": [
              "<Figure size 1152x216 with 2 Axes>"
            ]
          },
          "metadata": {
            "tags": [],
            "needs_background": "light"
          }
        }
      ]
    },
    {
      "cell_type": "code",
      "metadata": {
        "colab": {
          "base_uri": "https://localhost:8080/",
          "height": 0
        },
        "id": "QlCVRdZVhBv5",
        "outputId": "f829e0ec-d513-41b0-9cda-1efd759a94b4"
      },
      "source": [
        "plt.figure(figsize=(15,4))\n",
        "sns.countplot(train['Prod. year'])\n",
        "plt.xticks(rotation=90)"
      ],
      "execution_count": 33,
      "outputs": [
        {
          "output_type": "execute_result",
          "data": {
            "text/plain": [
              "(array([ 0,  1,  2,  3,  4,  5,  6,  7,  8,  9, 10, 11, 12, 13, 14, 15, 16,\n",
              "        17, 18, 19, 20, 21, 22, 23, 24, 25, 26, 27, 28, 29, 30]),\n",
              " <a list of 31 Text major ticklabel objects>)"
            ]
          },
          "metadata": {
            "tags": []
          },
          "execution_count": 33
        },
        {
          "output_type": "display_data",
          "data": {
            "image/png": "[encoded data removed]",
            "text/plain": [
              "<Figure size 1080x288 with 1 Axes>"
            ]
          },
          "metadata": {
            "tags": [],
            "needs_background": "light"
          }
        }
      ]
    },
    {
      "cell_type": "code",
      "metadata": {
        "id": "kj_TFUtThBv5"
      },
      "source": [
        "#For test data\n",
        "# We can replace the years less than 1990 by mode value\n",
        "test[test['Prod. year']<1990] = test['Prod. year'].mode()[0]"
      ],
      "execution_count": 34,
      "outputs": []
    },
    {
      "cell_type": "code",
      "metadata": {
        "colab": {
          "base_uri": "https://localhost:8080/",
          "height": 0
        },
        "id": "qxYSQBczXYRX",
        "outputId": "b314cf20-26d1-4695-aeca-e71ad6d54ab6"
      },
      "source": [
        "fig,axs = plt.subplots(1,2,figsize=(16,3))\n",
        "sns.boxplot(train['Engine volume'],ax=axs[0])\n",
        "Q1 = train['Engine volume'].quantile(0.25)\n",
        "Q3 = train['Engine volume'].quantile(0.75)\n",
        "IQR = Q3-Q1\n",
        "print(Q1-1.5*IQR,Q3+1.5*IQR)\n",
        "\n",
        "filter = (train['Engine volume']< Q1-1.5*IQR) | (train['Engine volume']>Q3+1.5*IQR)\n",
        "train['Engine volume'][filter] = train['Engine volume'].mode()[0]\n",
        "sns.boxplot(train['Engine volume'],ax=axs[1])"
      ],
      "execution_count": 35,
      "outputs": [
        {
          "output_type": "stream",
          "text": [
            "0.7500000000000002 3.55\n"
          ],
          "name": "stdout"
        },
        {
          "output_type": "execute_result",
          "data": {
            "text/plain": [
              "<matplotlib.axes._subplots.AxesSubplot at 0x7f66122805d0>"
            ]
          },
          "metadata": {
            "tags": []
          },
          "execution_count": 35
        },
        {
          "output_type": "display_data",
          "data": {
            "image/png": "[encoded data removed]",
            "text/plain": [
              "<Figure size 1152x216 with 2 Axes>"
            ]
          },
          "metadata": {
            "tags": [],
            "needs_background": "light"
          }
        }
      ]
    },
    {
      "cell_type": "code",
      "metadata": {
        "colab": {
          "base_uri": "https://localhost:8080/",
          "height": 0
        },
        "id": "O5rLPMCaPt5H",
        "outputId": "d81c3105-7267-4f89-8c3a-821c51880f38"
      },
      "source": [
        "# Mileage - train\n",
        "fig,axs = plt.subplots(1,2,figsize=(12,2))\n",
        "sns.boxplot(train['Mileage'],ax=axs[0])\n",
        "Q1 = train['Mileage'].quantile(0.25)\n",
        "Q3 = train['Mileage'].quantile(0.75)\n",
        "IQR = Q3-Q1\n",
        "print(Q1-1.5*IQR,Q3+1.5*IQR)\n",
        "\n",
        "filter = (train['Mileage']<Q1-1.5*IQR) | (train['Mileage']>Q3+1.5*IQR)\n",
        "train['Mileage'][filter] = train['Mileage'].mode()[0]\n",
        "sns.boxplot(train['Mileage'],ax=axs[1])"
      ],
      "execution_count": 36,
      "outputs": [
        {
          "output_type": "stream",
          "text": [
            "-108332.0 367220.0\n"
          ],
          "name": "stdout"
        },
        {
          "output_type": "execute_result",
          "data": {
            "text/plain": [
              "<matplotlib.axes._subplots.AxesSubplot at 0x7f66121c3990>"
            ]
          },
          "metadata": {
            "tags": []
          },
          "execution_count": 36
        },
        {
          "output_type": "display_data",
          "data": {
            "image/png": "[encoded data removed]",
            "text/plain": [
              "<Figure size 864x144 with 2 Axes>"
            ]
          },
          "metadata": {
            "tags": [],
            "needs_background": "light"
          }
        }
      ]
    },
    {
      "cell_type": "code",
      "metadata": {
        "colab": {
          "base_uri": "https://localhost:8080/",
          "height": 0
        },
        "id": "J7QDs5m6Ymg-",
        "outputId": "05fb8b49-7a41-4e7f-9d32-7c445ba14be4"
      },
      "source": [
        "# Mileage - test\n",
        "fig,axs = plt.subplots(1,2,figsize=(12,2))\n",
        "sns.boxplot(test['Mileage'],ax=axs[0])\n",
        "Q1 = test['Mileage'].quantile(0.25)\n",
        "Q3 = test['Mileage'].quantile(0.75)\n",
        "IQR = Q3-Q1\n",
        "print(Q1-1.5*IQR,Q3+1.5*IQR)\n",
        "\n",
        "filter = (train['Mileage']<Q1-1.5*IQR) | (train['Mileage']>Q3+1.5*IQR)\n",
        "train['Mileage'][filter] = train['Mileage'].mode()[0]\n",
        "sns.boxplot(train['Mileage'],ax=axs[1])"
      ],
      "execution_count": 37,
      "outputs": [
        {
          "output_type": "stream",
          "text": [
            "-110500.0 373500.0\n"
          ],
          "name": "stdout"
        },
        {
          "output_type": "execute_result",
          "data": {
            "text/plain": [
              "<matplotlib.axes._subplots.AxesSubplot at 0x7f661263ca10>"
            ]
          },
          "metadata": {
            "tags": []
          },
          "execution_count": 37
        },
        {
          "output_type": "display_data",
          "data": {
            "image/png": "[encoded data removed]",
            "text/plain": [
              "<Figure size 864x144 with 2 Axes>"
            ]
          },
          "metadata": {
            "tags": [],
            "needs_background": "light"
          }
        }
      ]
    },
    {
      "cell_type": "code",
      "metadata": {
        "id": "3xM1PRCRhBv8"
      },
      "source": [
        "#For the moment drop 'Manufacturer' and 'Model'\n",
        "train.drop(['Manufacturer','Model'],axis=1,inplace=True)\n",
        "\n",
        "test.drop(['Manufacturer','Model'],axis=1,inplace=True)"
      ],
      "execution_count": 38,
      "outputs": []
    },
    {
      "cell_type": "code",
      "metadata": {
        "id": "k9vKCFCbhBv8"
      },
      "source": [
        "# Dummy categorical features\n",
        "train = pd.get_dummies(train,drop_first=True)\n",
        "\n",
        "test = pd.get_dummies(test,drop_first=True)"
      ],
      "execution_count": 39,
      "outputs": []
    },
    {
      "cell_type": "code",
      "metadata": {
        "colab": {
          "base_uri": "https://localhost:8080/"
        },
        "id": "bV7wm5B9hBv8",
        "outputId": "21c4425c-11a5-4868-cb30-efb2c73e1ed7"
      },
      "source": [
        "train.shape,test.shape"
      ],
      "execution_count": 40,
      "outputs": [
        {
          "output_type": "execute_result",
          "data": {
            "text/plain": [
              "((19237, 50), (8245, 50))"
            ]
          },
          "metadata": {
            "tags": []
          },
          "execution_count": 40
        }
      ]
    },
    {
      "cell_type": "code",
      "metadata": {
        "colab": {
          "base_uri": "https://localhost:8080/",
          "height": 0
        },
        "id": "d3Mr2cg3hBv9",
        "outputId": "c8b8a1a7-5aa0-458f-de83-6e5c5d7687fe"
      },
      "source": [
        "plt.figure(figsize=(20,20))\n",
        "corr = train.corr()\n",
        "#sns.heatmap(corr,square=True)"
      ],
      "execution_count": 41,
      "outputs": [
        {
          "output_type": "display_data",
          "data": {
            "text/plain": [
              "<Figure size 1440x1440 with 0 Axes>"
            ]
          },
          "metadata": {
            "tags": []
          }
        }
      ]
    },
    {
      "cell_type": "code",
      "metadata": {
        "id": "2uei_4SYhBv-"
      },
      "source": [
        "y = train.Price.values\n",
        "train.drop(['Price'],axis=1,inplace=True)\n",
        "test.drop(['Price'],axis=1,inplace=True)"
      ],
      "execution_count": 42,
      "outputs": []
    },
    {
      "cell_type": "code",
      "metadata": {
        "id": "2zJMhChGhBv-"
      },
      "source": [
        "# We can use Minmaxscaler scaler to scale the data\n",
        "scaler = MinMaxScaler()\n",
        "train_scaled = pd.DataFrame(scaler.fit_transform(train),columns=train.columns)\n",
        "test_scaled = pd.DataFrame(scaler.fit_transform(test),columns=train.columns)"
      ],
      "execution_count": 43,
      "outputs": []
    },
    {
      "cell_type": "code",
      "metadata": {
        "colab": {
          "base_uri": "https://localhost:8080/",
          "height": 0
        },
        "id": "XbEe9Xhqc_iX",
        "outputId": "f902e346-4ac6-43a9-cf93-cb82f4e5b7f1"
      },
      "source": [
        "#We use the numpy fuction log1p which  applies log(1+x) to all elements of the column\n",
        "#y = boxcox1p(y,0.25)\n",
        "y = np.log1p(y)\n",
        "\n",
        "#train_data[\"Price\"] = np.log1p(train_data['Price']+1)\n",
        "#Check the new distribution \n",
        "sns.distplot(y , fit=norm);\n",
        "\n",
        "#Get the fitted parameters used by the function\n",
        "(mu, sigma) = norm.fit(y)\n",
        "print( '\\n mu = {:.2f} and sigma = {:.2f}\\n'.format(mu, sigma))\n",
        "\n",
        "#Now plot the distribution\n",
        "plt.legend(['Normal dist. ($\\mu=$ {:.2f} and $\\sigma=$ {:.2f} )'.format(mu, sigma)],\n",
        "            loc='best')\n",
        "plt.ylabel('Frequency')\n",
        "plt.title('Price distribution')\n",
        "\n",
        "#Get also the QQ-plot\n",
        "fig = plt.figure()\n",
        "res = stats.probplot(y, plot=plt)\n",
        "plt.show()\n"
      ],
      "execution_count": 44,
      "outputs": [
        {
          "output_type": "stream",
          "text": [
            "\n",
            " mu = 9.02 and sigma = 1.58\n",
            "\n"
          ],
          "name": "stdout"
        },
        {
          "output_type": "display_data",
          "data": {
            "image/png": "[encoded data removed]",
            "text/plain": [
              "<Figure size 432x288 with 1 Axes>"
            ]
          },
          "metadata": {
            "tags": [],
            "needs_background": "light"
          }
        },
        {
          "output_type": "display_data",
          "data": {
            "image/png": "[encoded data removed]",
            "text/plain": [
              "<Figure size 432x288 with 1 Axes>"
            ]
          },
          "metadata": {
            "tags": [],
            "needs_background": "light"
          }
        }
      ]
    },
    {
      "cell_type": "markdown",
      "metadata": {
        "id": "p5gr_YcYhBwA"
      },
      "source": [
        "# 3. Modelling"
      ]
    },
    {
      "cell_type": "code",
      "metadata": {
        "id": "OQsIgpvjb_sd"
      },
      "source": [
        "# Libraries required for Modelling and Evaluation\n",
        "from sklearn.metrics import mean_squared_log_error\n",
        "from sklearn.model_selection import train_test_split\n",
        "from scipy.special import boxcox1p,inv_boxcox1p\n",
        "\n",
        "import pickle\n",
        "from sklearn.linear_model import LinearRegression\n",
        "from sklearn.ensemble import RandomForestRegressor,ExtraTreesRegressor\n",
        "\n",
        "from sklearn.feature_selection import SelectKBest\n",
        "from sklearn.feature_selection import chi2\n",
        "\n",
        "from sklearn.model_selection import KFold,RandomizedSearchCV\n",
        "from sklearn.metrics import mean_squared_error,r2_score,mean_absolute_error"
      ],
      "execution_count": 45,
      "outputs": []
    },
    {
      "cell_type": "code",
      "metadata": {
        "id": "n1gcFLA2hBwA"
      },
      "source": [
        "# Define root_meansquared_log_error\n",
        "def rmsle(y, y_pred):\n",
        "    return np.sqrt(mean_squared_log_error(y, y_pred))"
      ],
      "execution_count": 46,
      "outputs": []
    },
    {
      "cell_type": "code",
      "metadata": {
        "id": "QYsnTS-0hBwB"
      },
      "source": [
        "#Split the data into training and testing\n",
        "x_train,x_test,y_train,y_test = train_test_split(train_scaled,y,test_size=0.25,random_state=0)"
      ],
      "execution_count": 47,
      "outputs": []
    },
    {
      "cell_type": "code",
      "metadata": {
        "colab": {
          "base_uri": "https://localhost:8080/"
        },
        "id": "UniFKwgla89Q",
        "outputId": "d4af773b-d064-47d9-d8f2-e6671d367d1a"
      },
      "source": [
        "# Random Forest Model - Fit model\n",
        "model = RandomForestRegressor(n_estimators=100,min_samples_split=5,min_samples_leaf=1,max_features='sqrt',max_depth=5)\n",
        "model.fit(x_train,y_train)"
      ],
      "execution_count": 48,
      "outputs": [
        {
          "output_type": "execute_result",
          "data": {
            "text/plain": [
              "RandomForestRegressor(bootstrap=True, ccp_alpha=0.0, criterion='mse',\n",
              "                      max_depth=5, max_features='sqrt', max_leaf_nodes=None,\n",
              "                      max_samples=None, min_impurity_decrease=0.0,\n",
              "                      min_impurity_split=None, min_samples_leaf=1,\n",
              "                      min_samples_split=5, min_weight_fraction_leaf=0.0,\n",
              "                      n_estimators=100, n_jobs=None, oob_score=False,\n",
              "                      random_state=None, verbose=0, warm_start=False)"
            ]
          },
          "metadata": {
            "tags": []
          },
          "execution_count": 48
        }
      ]
    },
    {
      "cell_type": "markdown",
      "metadata": {
        "id": "B3sUmBikkapu"
      },
      "source": [
        "# 4. Evaluation"
      ]
    },
    {
      "cell_type": "code",
      "metadata": {
        "colab": {
          "base_uri": "https://localhost:8080/"
        },
        "id": "fvTF7qzocLZG",
        "outputId": "3f7fae58-4b8d-424d-9009-5b3dc5210a8f"
      },
      "source": [
        "# Predict the outputs for test data\n",
        "y_pred_test = model.predict(x_test)\n",
        "y_pred_train = model.predict(x_train)\n",
        "print('Train auc', rmsle(y_pred_train,y_train))\n",
        "print('Test auc', rmsle(y_pred_test,y_test))"
      ],
      "execution_count": 49,
      "outputs": [
        {
          "output_type": "stream",
          "text": [
            "Train auc 0.1615992865943931\n",
            "Test auc 0.16444644563254046\n"
          ],
          "name": "stdout"
        }
      ]
    },
    {
      "cell_type": "code",
      "metadata": {
        "colab": {
          "base_uri": "https://localhost:8080/"
        },
        "id": "sBMukgSohBwC",
        "outputId": "f5b3e7d9-b9e6-4bc1-ea40-53286e26c99b"
      },
      "source": [
        "#Evaluate the model using mean_sqaured_log_error\n",
        "y_pred_train = np.expm1(model.predict(x_train))\n",
        "y_pred_test = np.expm1(model.predict(x_test))\n",
        "print('Train auc', rmsle(y_pred_train,np.expm1(y_train)))\n",
        "print('Test auc', rmsle(y_pred_test,np.expm1(y_test)))"
      ],
      "execution_count": 50,
      "outputs": [
        {
          "output_type": "stream",
          "text": [
            "Train auc 1.3001765086002177\n",
            "Test auc 1.3132605399456858\n"
          ],
          "name": "stdout"
        }
      ]
    },
    {
      "cell_type": "markdown",
      "metadata": {
        "id": "HGJZ1O2ckeCf"
      },
      "source": [
        "# 5. Submission"
      ]
    },
    {
      "cell_type": "markdown",
      "metadata": {
        "id": "ytD0L-QD2SZA"
      },
      "source": [
        "For the submission we use the whole training data to train the model for better results. "
      ]
    },
    {
      "cell_type": "code",
      "metadata": {
        "colab": {
          "base_uri": "https://localhost:8080/"
        },
        "id": "A5lh9hM73F4s",
        "outputId": "0560f85d-dd01-4ea7-9d48-8b02827faf99"
      },
      "source": [
        "# Random Forest Model - Fit model using whole traing data\n",
        "model_final = RandomForestRegressor(n_estimators=100,min_samples_split=5,min_samples_leaf=1,max_features='sqrt',max_depth=5)\n",
        "model_final.fit(train_scaled,y)"
      ],
      "execution_count": 51,
      "outputs": [
        {
          "output_type": "execute_result",
          "data": {
            "text/plain": [
              "RandomForestRegressor(bootstrap=True, ccp_alpha=0.0, criterion='mse',\n",
              "                      max_depth=5, max_features='sqrt', max_leaf_nodes=None,\n",
              "                      max_samples=None, min_impurity_decrease=0.0,\n",
              "                      min_impurity_split=None, min_samples_leaf=1,\n",
              "                      min_samples_split=5, min_weight_fraction_leaf=0.0,\n",
              "                      n_estimators=100, n_jobs=None, oob_score=False,\n",
              "                      random_state=None, verbose=0, warm_start=False)"
            ]
          },
          "metadata": {
            "tags": []
          },
          "execution_count": 51
        }
      ]
    },
    {
      "cell_type": "code",
      "metadata": {
        "id": "qNIHPsBdhBwC"
      },
      "source": [
        "# Predict the submission dataset\n",
        "submission = np.expm1(model_final.predict(test_scaled))\n",
        "submission = pd.DataFrame(submission,columns=['Price'])\n",
        "submission.to_csv('my_submission.csv',index=False)"
      ],
      "execution_count": 52,
      "outputs": []
    },
    {
      "cell_type": "code",
      "metadata": {
        "colab": {
          "base_uri": "https://localhost:8080/",
          "height": 206
        },
        "id": "hqHpbpUShBwD",
        "outputId": "6e739bbc-124c-4345-d814-35ce693baeec"
      },
      "source": [
        "submission.head()"
      ],
      "execution_count": 55,
      "outputs": [
        {
          "output_type": "execute_result",
          "data": {
            "text/html": [
              "<div>\n",
              "<style scoped>\n",
              "    .dataframe tbody tr th:only-of-type {\n",
              "        vertical-align: middle;\n",
              "    }\n",
              "\n",
              "    .dataframe tbody tr th {\n",
              "        vertical-align: top;\n",
              "    }\n",
              "\n",
              "    .dataframe thead th {\n",
              "        text-align: right;\n",
              "    }\n",
              "</style>\n",
              "<table border=\"1\" class=\"dataframe\">\n",
              "  <thead>\n",
              "    <tr style=\"text-align: right;\">\n",
              "      <th></th>\n",
              "      <th>Price</th>\n",
              "    </tr>\n",
              "  </thead>\n",
              "  <tbody>\n",
              "    <tr>\n",
              "      <th>0</th>\n",
              "      <td>10977.759094</td>\n",
              "    </tr>\n",
              "    <tr>\n",
              "      <th>1</th>\n",
              "      <td>4251.215869</td>\n",
              "    </tr>\n",
              "    <tr>\n",
              "      <th>2</th>\n",
              "      <td>4844.238831</td>\n",
              "    </tr>\n",
              "    <tr>\n",
              "      <th>3</th>\n",
              "      <td>4300.540101</td>\n",
              "    </tr>\n",
              "    <tr>\n",
              "      <th>4</th>\n",
              "      <td>4827.142152</td>\n",
              "    </tr>\n",
              "  </tbody>\n",
              "</table>\n",
              "</div>"
            ],
            "text/plain": [
              "          Price\n",
              "0  10977.759094\n",
              "1   4251.215869\n",
              "2   4844.238831\n",
              "3   4300.540101\n",
              "4   4827.142152"
            ]
          },
          "metadata": {
            "tags": []
          },
          "execution_count": 55
        }
      ]
    }
  ]
}