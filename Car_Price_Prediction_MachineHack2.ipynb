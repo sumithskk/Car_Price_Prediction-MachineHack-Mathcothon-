{
  "nbformat": 4,
  "nbformat_minor": 0,
  "metadata": {
    "language_info": {
      "codemirror_mode": {
        "name": "ipython",
        "version": 3
      },
      "file_extension": ".py",
      "mimetype": "text/x-python",
      "name": "python",
      "nbconvert_exporter": "python",
      "pygments_lexer": "ipython3",
      "version": "3.8.0"
    },
    "orig_nbformat": 4,
    "kernelspec": {
      "name": "python3",
      "display_name": "Python 3.8.0 64-bit"
    },
    "interpreter": {
      "hash": "1baa965d5efe3ac65b79dfc60c0d706280b1da80fedb7760faf2759126c4f253"
    },
    "colab": {
      "name": "Car_Price_Prediction_MachineHack.ipynb",
      "provenance": [],
      "collapsed_sections": [
        "mnbJQxw8iWWH",
        "XcrTyuoNjZAs",
        "p5gr_YcYhBwA",
        "B3sUmBikkapu",
        "HGJZ1O2ckeCf"
      ]
    }
  },
  "cells": [
    {
      "cell_type": "markdown",
      "metadata": {
        "id": "44jntVUpiClu"
      },
      "source": [
        "# MATHCOTHON - Car Price Prediction"
      ]
    },
    {
      "cell_type": "code",
      "metadata": {
        "colab": {
          "base_uri": "https://localhost:8080/"
        },
        "id": "FcMh7bNeZz-s",
        "outputId": "f71ba0de-287a-4463-c06e-069321956630"
      },
      "source": [
        "!pip install catboost"
      ],
      "execution_count": 2,
      "outputs": [
        {
          "output_type": "stream",
          "text": [
            "Collecting catboost\n",
            "  Downloading catboost-0.26-cp37-none-manylinux1_x86_64.whl (69.2 MB)\n",
            "\u001b[K     |████████████████████████████████| 69.2 MB 4.8 kB/s \n",
            "\u001b[?25hRequirement already satisfied: graphviz in /usr/local/lib/python3.7/dist-packages (from catboost) (0.10.1)\n",
            "Requirement already satisfied: numpy>=1.16.0 in /usr/local/lib/python3.7/dist-packages (from catboost) (1.19.5)\n",
            "Requirement already satisfied: pandas>=0.24.0 in /usr/local/lib/python3.7/dist-packages (from catboost) (1.1.5)\n",
            "Requirement already satisfied: scipy in /usr/local/lib/python3.7/dist-packages (from catboost) (1.4.1)\n",
            "Requirement already satisfied: six in /usr/local/lib/python3.7/dist-packages (from catboost) (1.15.0)\n",
            "Requirement already satisfied: matplotlib in /usr/local/lib/python3.7/dist-packages (from catboost) (3.2.2)\n",
            "Requirement already satisfied: plotly in /usr/local/lib/python3.7/dist-packages (from catboost) (4.4.1)\n",
            "Requirement already satisfied: python-dateutil>=2.7.3 in /usr/local/lib/python3.7/dist-packages (from pandas>=0.24.0->catboost) (2.8.1)\n",
            "Requirement already satisfied: pytz>=2017.2 in /usr/local/lib/python3.7/dist-packages (from pandas>=0.24.0->catboost) (2018.9)\n",
            "Requirement already satisfied: pyparsing!=2.0.4,!=2.1.2,!=2.1.6,>=2.0.1 in /usr/local/lib/python3.7/dist-packages (from matplotlib->catboost) (2.4.7)\n",
            "Requirement already satisfied: kiwisolver>=1.0.1 in /usr/local/lib/python3.7/dist-packages (from matplotlib->catboost) (1.3.1)\n",
            "Requirement already satisfied: cycler>=0.10 in /usr/local/lib/python3.7/dist-packages (from matplotlib->catboost) (0.10.0)\n",
            "Requirement already satisfied: retrying>=1.3.3 in /usr/local/lib/python3.7/dist-packages (from plotly->catboost) (1.3.3)\n",
            "Installing collected packages: catboost\n",
            "Successfully installed catboost-0.26\n"
          ],
          "name": "stdout"
        }
      ]
    },
    {
      "cell_type": "code",
      "metadata": {
        "colab": {
          "base_uri": "https://localhost:8080/"
        },
        "id": "cs8NTBzIsP9T",
        "outputId": "d153a360-e8c7-4b9a-a618-6bcff910a9e5"
      },
      "source": [
        "!pip install category_encoders"
      ],
      "execution_count": 3,
      "outputs": [
        {
          "output_type": "stream",
          "text": [
            "Collecting category_encoders\n",
            "  Downloading category_encoders-2.2.2-py2.py3-none-any.whl (80 kB)\n",
            "\u001b[?25l\r\u001b[K     |████                            | 10 kB 22.2 MB/s eta 0:00:01\r\u001b[K     |████████▏                       | 20 kB 26.1 MB/s eta 0:00:01\r\u001b[K     |████████████▏                   | 30 kB 29.2 MB/s eta 0:00:01\r\u001b[K     |████████████████▎               | 40 kB 31.2 MB/s eta 0:00:01\r\u001b[K     |████████████████████▎           | 51 kB 15.0 MB/s eta 0:00:01\r\u001b[K     |████████████████████████▍       | 61 kB 9.1 MB/s eta 0:00:01\r\u001b[K     |████████████████████████████▍   | 71 kB 9.3 MB/s eta 0:00:01\r\u001b[K     |████████████████████████████████| 80 kB 5.5 MB/s \n",
            "\u001b[?25hRequirement already satisfied: statsmodels>=0.9.0 in /usr/local/lib/python3.7/dist-packages (from category_encoders) (0.10.2)\n",
            "Requirement already satisfied: scikit-learn>=0.20.0 in /usr/local/lib/python3.7/dist-packages (from category_encoders) (0.22.2.post1)\n",
            "Requirement already satisfied: pandas>=0.21.1 in /usr/local/lib/python3.7/dist-packages (from category_encoders) (1.1.5)\n",
            "Requirement already satisfied: numpy>=1.14.0 in /usr/local/lib/python3.7/dist-packages (from category_encoders) (1.19.5)\n",
            "Requirement already satisfied: scipy>=1.0.0 in /usr/local/lib/python3.7/dist-packages (from category_encoders) (1.4.1)\n",
            "Requirement already satisfied: patsy>=0.5.1 in /usr/local/lib/python3.7/dist-packages (from category_encoders) (0.5.1)\n",
            "Requirement already satisfied: python-dateutil>=2.7.3 in /usr/local/lib/python3.7/dist-packages (from pandas>=0.21.1->category_encoders) (2.8.1)\n",
            "Requirement already satisfied: pytz>=2017.2 in /usr/local/lib/python3.7/dist-packages (from pandas>=0.21.1->category_encoders) (2018.9)\n",
            "Requirement already satisfied: six in /usr/local/lib/python3.7/dist-packages (from patsy>=0.5.1->category_encoders) (1.15.0)\n",
            "Requirement already satisfied: joblib>=0.11 in /usr/local/lib/python3.7/dist-packages (from scikit-learn>=0.20.0->category_encoders) (1.0.1)\n",
            "Installing collected packages: category-encoders\n",
            "Successfully installed category-encoders-2.2.2\n"
          ],
          "name": "stdout"
        }
      ]
    },
    {
      "cell_type": "markdown",
      "metadata": {
        "id": "mnbJQxw8iWWH"
      },
      "source": [
        "# 1. Data Preparation"
      ]
    },
    {
      "cell_type": "code",
      "metadata": {
        "id": "Q7CWll-uhBvb"
      },
      "source": [
        "# Import all libraries required\n",
        "import pandas as pd \n",
        "import numpy as np \n",
        "import matplotlib.pyplot as plt \n",
        "import seaborn as sns \n",
        "\n",
        "plt.style.use('default')\n",
        "\n",
        "from warnings import filterwarnings\n",
        "filterwarnings('ignore')\n",
        "\n",
        "import category_encoders as ce\n",
        "#scipy libraries\n",
        "from scipy import stats\n",
        "from scipy.stats import norm, skew#for some statistics\n",
        "from scipy.special import boxcox,inv_boxcox\n",
        "\n",
        "#sklearn libraries\n",
        "from sklearn.feature_selection import SelectKBest\n",
        "from sklearn.feature_selection import chi2\n",
        "from sklearn.preprocessing import MinMaxScaler,QuantileTransformer\n"
      ],
      "execution_count": 4,
      "outputs": []
    },
    {
      "cell_type": "code",
      "metadata": {
        "colab": {
          "base_uri": "https://localhost:8080/"
        },
        "id": "JouOP7RFuite",
        "outputId": "cbf105b2-f895-47b7-ac2a-bfe9fdcf00d0"
      },
      "source": [
        "from google.colab import drive\n",
        "drive.mount('/content/drive')"
      ],
      "execution_count": 5,
      "outputs": [
        {
          "output_type": "stream",
          "text": [
            "Mounted at /content/drive\n"
          ],
          "name": "stdout"
        }
      ]
    },
    {
      "cell_type": "code",
      "metadata": {
        "colab": {
          "base_uri": "https://localhost:8080/",
          "height": 164
        },
        "id": "lSVh6E3IhBvj",
        "outputId": "50d63787-dfee-42ea-c524-2e66e8e37c73"
      },
      "source": [
        "# load train and test dataset\n",
        "train = pd.read_csv(\"/content/drive/MyDrive/Colab Notebooks/Bootcamp/Machine-Hack/train.csv\")\n",
        "test = pd.read_csv('/content/drive/MyDrive/Colab Notebooks/Bootcamp/Machine-Hack/test.csv')\n",
        "train.head(2)"
      ],
      "execution_count": 6,
      "outputs": [
        {
          "output_type": "execute_result",
          "data": {
            "text/html": [
              "<div>\n",
              "<style scoped>\n",
              "    .dataframe tbody tr th:only-of-type {\n",
              "        vertical-align: middle;\n",
              "    }\n",
              "\n",
              "    .dataframe tbody tr th {\n",
              "        vertical-align: top;\n",
              "    }\n",
              "\n",
              "    .dataframe thead th {\n",
              "        text-align: right;\n",
              "    }\n",
              "</style>\n",
              "<table border=\"1\" class=\"dataframe\">\n",
              "  <thead>\n",
              "    <tr style=\"text-align: right;\">\n",
              "      <th></th>\n",
              "      <th>ID</th>\n",
              "      <th>Price</th>\n",
              "      <th>Levy</th>\n",
              "      <th>Manufacturer</th>\n",
              "      <th>Model</th>\n",
              "      <th>Prod. year</th>\n",
              "      <th>Category</th>\n",
              "      <th>Leather interior</th>\n",
              "      <th>Fuel type</th>\n",
              "      <th>Engine volume</th>\n",
              "      <th>Mileage</th>\n",
              "      <th>Cylinders</th>\n",
              "      <th>Gear box type</th>\n",
              "      <th>Drive wheels</th>\n",
              "      <th>Doors</th>\n",
              "      <th>Wheel</th>\n",
              "      <th>Color</th>\n",
              "      <th>Airbags</th>\n",
              "    </tr>\n",
              "  </thead>\n",
              "  <tbody>\n",
              "    <tr>\n",
              "      <th>0</th>\n",
              "      <td>45654403</td>\n",
              "      <td>13328</td>\n",
              "      <td>1399</td>\n",
              "      <td>LEXUS</td>\n",
              "      <td>RX 450</td>\n",
              "      <td>2010</td>\n",
              "      <td>Jeep</td>\n",
              "      <td>Yes</td>\n",
              "      <td>Hybrid</td>\n",
              "      <td>3.5</td>\n",
              "      <td>186005 km</td>\n",
              "      <td>6.0</td>\n",
              "      <td>Automatic</td>\n",
              "      <td>4x4</td>\n",
              "      <td>04-May</td>\n",
              "      <td>Left wheel</td>\n",
              "      <td>Silver</td>\n",
              "      <td>12</td>\n",
              "    </tr>\n",
              "    <tr>\n",
              "      <th>1</th>\n",
              "      <td>44731507</td>\n",
              "      <td>16621</td>\n",
              "      <td>1018</td>\n",
              "      <td>CHEVROLET</td>\n",
              "      <td>Equinox</td>\n",
              "      <td>2011</td>\n",
              "      <td>Jeep</td>\n",
              "      <td>No</td>\n",
              "      <td>Petrol</td>\n",
              "      <td>3</td>\n",
              "      <td>192000 km</td>\n",
              "      <td>6.0</td>\n",
              "      <td>Tiptronic</td>\n",
              "      <td>4x4</td>\n",
              "      <td>04-May</td>\n",
              "      <td>Left wheel</td>\n",
              "      <td>Black</td>\n",
              "      <td>8</td>\n",
              "    </tr>\n",
              "  </tbody>\n",
              "</table>\n",
              "</div>"
            ],
            "text/plain": [
              "         ID  Price  Levy Manufacturer  ...   Doors       Wheel   Color Airbags\n",
              "0  45654403  13328  1399        LEXUS  ...  04-May  Left wheel  Silver      12\n",
              "1  44731507  16621  1018    CHEVROLET  ...  04-May  Left wheel   Black       8\n",
              "\n",
              "[2 rows x 18 columns]"
            ]
          },
          "metadata": {
            "tags": []
          },
          "execution_count": 6
        }
      ]
    },
    {
      "cell_type": "code",
      "metadata": {
        "colab": {
          "base_uri": "https://localhost:8080/",
          "height": 164
        },
        "id": "J5W3SHXfhBvl",
        "outputId": "54fde9c8-4fd5-4ce8-96ae-bd50725deb95"
      },
      "source": [
        "test.head(2)"
      ],
      "execution_count": 7,
      "outputs": [
        {
          "output_type": "execute_result",
          "data": {
            "text/html": [
              "<div>\n",
              "<style scoped>\n",
              "    .dataframe tbody tr th:only-of-type {\n",
              "        vertical-align: middle;\n",
              "    }\n",
              "\n",
              "    .dataframe tbody tr th {\n",
              "        vertical-align: top;\n",
              "    }\n",
              "\n",
              "    .dataframe thead th {\n",
              "        text-align: right;\n",
              "    }\n",
              "</style>\n",
              "<table border=\"1\" class=\"dataframe\">\n",
              "  <thead>\n",
              "    <tr style=\"text-align: right;\">\n",
              "      <th></th>\n",
              "      <th>ID</th>\n",
              "      <th>Levy</th>\n",
              "      <th>Manufacturer</th>\n",
              "      <th>Model</th>\n",
              "      <th>Prod. year</th>\n",
              "      <th>Category</th>\n",
              "      <th>Leather interior</th>\n",
              "      <th>Fuel type</th>\n",
              "      <th>Engine volume</th>\n",
              "      <th>Mileage</th>\n",
              "      <th>Cylinders</th>\n",
              "      <th>Gear box type</th>\n",
              "      <th>Drive wheels</th>\n",
              "      <th>Doors</th>\n",
              "      <th>Wheel</th>\n",
              "      <th>Color</th>\n",
              "      <th>Airbags</th>\n",
              "      <th>Price</th>\n",
              "    </tr>\n",
              "  </thead>\n",
              "  <tbody>\n",
              "    <tr>\n",
              "      <th>0</th>\n",
              "      <td>44020629</td>\n",
              "      <td>-</td>\n",
              "      <td>VOLKSWAGEN</td>\n",
              "      <td>Golf</td>\n",
              "      <td>2012</td>\n",
              "      <td>Hatchback</td>\n",
              "      <td>No</td>\n",
              "      <td>Diesel</td>\n",
              "      <td>2.0 Turbo</td>\n",
              "      <td>0 km</td>\n",
              "      <td>4</td>\n",
              "      <td>Manual</td>\n",
              "      <td>Front</td>\n",
              "      <td>02-Mar</td>\n",
              "      <td>Left wheel</td>\n",
              "      <td>Grey</td>\n",
              "      <td>10</td>\n",
              "      <td>NaN</td>\n",
              "    </tr>\n",
              "    <tr>\n",
              "      <th>1</th>\n",
              "      <td>45784798</td>\n",
              "      <td>-</td>\n",
              "      <td>HYUNDAI</td>\n",
              "      <td>Sonata</td>\n",
              "      <td>2012</td>\n",
              "      <td>Sedan</td>\n",
              "      <td>Yes</td>\n",
              "      <td>Petrol</td>\n",
              "      <td>2.4</td>\n",
              "      <td>26000 km</td>\n",
              "      <td>4</td>\n",
              "      <td>Tiptronic</td>\n",
              "      <td>Front</td>\n",
              "      <td>04-May</td>\n",
              "      <td>Left wheel</td>\n",
              "      <td>Grey</td>\n",
              "      <td>10</td>\n",
              "      <td>NaN</td>\n",
              "    </tr>\n",
              "  </tbody>\n",
              "</table>\n",
              "</div>"
            ],
            "text/plain": [
              "         ID Levy Manufacturer   Model  ...       Wheel Color Airbags Price\n",
              "0  44020629    -   VOLKSWAGEN    Golf  ...  Left wheel  Grey      10   NaN\n",
              "1  45784798    -      HYUNDAI  Sonata  ...  Left wheel  Grey      10   NaN\n",
              "\n",
              "[2 rows x 18 columns]"
            ]
          },
          "metadata": {
            "tags": []
          },
          "execution_count": 7
        }
      ]
    },
    {
      "cell_type": "code",
      "metadata": {
        "colab": {
          "base_uri": "https://localhost:8080/"
        },
        "id": "w_JKringhBvm",
        "outputId": "e92cc92c-959a-4cd9-eae1-41a47c246f36"
      },
      "source": [
        "#print dataset shape\n",
        "print(\"Train datast shape \",train.shape)\n",
        "print(\"Test dataset shape\",test.shape)"
      ],
      "execution_count": 8,
      "outputs": [
        {
          "output_type": "stream",
          "text": [
            "Train datast shape  (19237, 18)\n",
            "Test dataset shape (8245, 18)\n"
          ],
          "name": "stdout"
        }
      ]
    },
    {
      "cell_type": "markdown",
      "metadata": {
        "id": "XcrTyuoNjZAs"
      },
      "source": [
        "# 2. Exploratory Data Analysis "
      ]
    },
    {
      "cell_type": "code",
      "metadata": {
        "colab": {
          "base_uri": "https://localhost:8080/"
        },
        "id": "zc9nrZFahBvn",
        "outputId": "fa8d6c1c-20ea-4cd5-d737-da33c7335096"
      },
      "source": [
        "#Now drop the  'Id' colum since it's unnecessary for  the prediction process.\n",
        "train.drop(\"ID\", axis = 1, inplace = True)\n",
        "test.drop(\"ID\", axis = 1, inplace = True)\n",
        "\n",
        "#check again the data size after dropping the 'Id' variable\n",
        "print(\"\\nThe train data size after dropping Id feature is : {} \".format(train.shape)) \n",
        "print(\"The test data size after dropping Id feature is : {} \".format(test.shape))"
      ],
      "execution_count": 9,
      "outputs": [
        {
          "output_type": "stream",
          "text": [
            "\n",
            "The train data size after dropping Id feature is : (19237, 17) \n",
            "The test data size after dropping Id feature is : (8245, 17) \n"
          ],
          "name": "stdout"
        }
      ]
    },
    {
      "cell_type": "markdown",
      "metadata": {
        "id": "uvFUlcGGhBvo"
      },
      "source": [
        "### Outliers"
      ]
    },
    {
      "cell_type": "code",
      "metadata": {
        "colab": {
          "base_uri": "https://localhost:8080/"
        },
        "id": "5S8fBnqIu7f0",
        "outputId": "2f042c48-b616-4170-8f15-e35d43d294a8"
      },
      "source": [
        "# Start with price\n",
        "# Check for the percentile range, mean and std of price values\n",
        "train['Price'].describe(percentiles=[0,0.25,0.5,0.75,0.8,0.9,1])"
      ],
      "execution_count": 10,
      "outputs": [
        {
          "output_type": "execute_result",
          "data": {
            "text/plain": [
              "count    1.923700e+04\n",
              "mean     1.855593e+04\n",
              "std      1.905813e+05\n",
              "min      1.000000e+00\n",
              "0%       1.000000e+00\n",
              "25%      5.331000e+03\n",
              "50%      1.317200e+04\n",
              "75%      2.207500e+04\n",
              "80%      2.551200e+04\n",
              "90%      3.860900e+04\n",
              "100%     2.630750e+07\n",
              "max      2.630750e+07\n",
              "Name: Price, dtype: float64"
            ]
          },
          "metadata": {
            "tags": []
          },
          "execution_count": 10
        }
      ]
    },
    {
      "cell_type": "code",
      "metadata": {
        "colab": {
          "base_uri": "https://localhost:8080/",
          "height": 0
        },
        "id": "g937LnSFwe-5",
        "outputId": "13fc062c-6056-40df-c5ca-29a862f6bb0b"
      },
      "source": [
        "# Plot price distribution\n",
        "fig, axs = plt.subplots(1,2,figsize=(10,4))\n",
        "sns.distplot(train['Price'],ax=axs[0])\n",
        "\n",
        "#Remove price values  greater than 1e7\n",
        "train[(train['Price']>15e4)] = train['Price'].mode()[0]\n",
        "\n",
        "sns.distplot(train['Price'],ax=axs[1])"
      ],
      "execution_count": 11,
      "outputs": [
        {
          "output_type": "execute_result",
          "data": {
            "text/plain": [
              "<matplotlib.axes._subplots.AxesSubplot at 0x7f6e3a2bce50>"
            ]
          },
          "metadata": {
            "tags": []
          },
          "execution_count": 11
        },
        {
          "output_type": "display_data",
          "data": {
            "image/png": "[encoded data removed]",
            "text/plain": [
              "<Figure size 1000x400 with 2 Axes>"
            ]
          },
          "metadata": {
            "tags": []
          }
        }
      ]
    },
    {
      "cell_type": "code",
      "metadata": {
        "colab": {
          "base_uri": "https://localhost:8080/",
          "height": 0
        },
        "id": "oPtogxgihBvr",
        "outputId": "9c594c2a-3869-4a5c-d7d7-bafb186354c4"
      },
      "source": [
        "#Price is the variable we need to predict. So let's do some analysis on this variable first.\n",
        "\n",
        "sns.distplot(train['Price'] , fit=norm);\n",
        "\n",
        "# Get the fitted parameters used by the function\n",
        "(mu, sigma) = norm.fit(train['Price'])\n",
        "print( '\\n mu = {:.2f} and sigma = {:.2f}\\n'.format(mu, sigma))\n",
        "\n",
        "#Now plot the distribution\n",
        "plt.legend(['Normal dist. ($\\mu=$ {:.2f} and $\\sigma=$ {:.2f} )'.format(mu, sigma)],\n",
        "            loc='best')\n",
        "plt.ylabel('Frequency')\n",
        "plt.title('SalePrice distribution')\n",
        "\n",
        "#Get also the QQ-plot\n",
        "fig = plt.figure()\n",
        "res = stats.probplot(train['Price'], plot=plt)\n",
        "plt.show()\n"
      ],
      "execution_count": 12,
      "outputs": [
        {
          "output_type": "stream",
          "text": [
            "\n",
            " mu = 16873.77 and sigma = 16895.90\n",
            "\n"
          ],
          "name": "stdout"
        },
        {
          "output_type": "display_data",
          "data": {
            "image/png": "[encoded data removed]",
            "text/plain": [
              "<Figure size 640x480 with 1 Axes>"
            ]
          },
          "metadata": {
            "tags": []
          }
        },
        {
          "output_type": "display_data",
          "data": {
            "image/png": "[encoded data removed]",
            "text/plain": [
              "<Figure size 640x480 with 1 Axes>"
            ]
          },
          "metadata": {
            "tags": []
          }
        }
      ]
    },
    {
      "cell_type": "markdown",
      "metadata": {
        "id": "29b4YESthBvs"
      },
      "source": [
        "The target variable is right skewed.  As (linear) models love normally distributed data , we need to transform this variable and make it more normally distributed."
      ]
    },
    {
      "cell_type": "code",
      "metadata": {
        "colab": {
          "base_uri": "https://localhost:8080/",
          "height": 0
        },
        "id": "l69sZMZIhBvu",
        "outputId": "437ad4fb-7eb0-4da9-91d2-a2f9fd6b1214"
      },
      "source": [
        "train.head()"
      ],
      "execution_count": 13,
      "outputs": [
        {
          "output_type": "execute_result",
          "data": {
            "text/html": [
              "<div>\n",
              "<style scoped>\n",
              "    .dataframe tbody tr th:only-of-type {\n",
              "        vertical-align: middle;\n",
              "    }\n",
              "\n",
              "    .dataframe tbody tr th {\n",
              "        vertical-align: top;\n",
              "    }\n",
              "\n",
              "    .dataframe thead th {\n",
              "        text-align: right;\n",
              "    }\n",
              "</style>\n",
              "<table border=\"1\" class=\"dataframe\">\n",
              "  <thead>\n",
              "    <tr style=\"text-align: right;\">\n",
              "      <th></th>\n",
              "      <th>Price</th>\n",
              "      <th>Levy</th>\n",
              "      <th>Manufacturer</th>\n",
              "      <th>Model</th>\n",
              "      <th>Prod. year</th>\n",
              "      <th>Category</th>\n",
              "      <th>Leather interior</th>\n",
              "      <th>Fuel type</th>\n",
              "      <th>Engine volume</th>\n",
              "      <th>Mileage</th>\n",
              "      <th>Cylinders</th>\n",
              "      <th>Gear box type</th>\n",
              "      <th>Drive wheels</th>\n",
              "      <th>Doors</th>\n",
              "      <th>Wheel</th>\n",
              "      <th>Color</th>\n",
              "      <th>Airbags</th>\n",
              "    </tr>\n",
              "  </thead>\n",
              "  <tbody>\n",
              "    <tr>\n",
              "      <th>0</th>\n",
              "      <td>13328</td>\n",
              "      <td>1399</td>\n",
              "      <td>LEXUS</td>\n",
              "      <td>RX 450</td>\n",
              "      <td>2010</td>\n",
              "      <td>Jeep</td>\n",
              "      <td>Yes</td>\n",
              "      <td>Hybrid</td>\n",
              "      <td>3.5</td>\n",
              "      <td>186005 km</td>\n",
              "      <td>6.0</td>\n",
              "      <td>Automatic</td>\n",
              "      <td>4x4</td>\n",
              "      <td>04-May</td>\n",
              "      <td>Left wheel</td>\n",
              "      <td>Silver</td>\n",
              "      <td>12</td>\n",
              "    </tr>\n",
              "    <tr>\n",
              "      <th>1</th>\n",
              "      <td>16621</td>\n",
              "      <td>1018</td>\n",
              "      <td>CHEVROLET</td>\n",
              "      <td>Equinox</td>\n",
              "      <td>2011</td>\n",
              "      <td>Jeep</td>\n",
              "      <td>No</td>\n",
              "      <td>Petrol</td>\n",
              "      <td>3</td>\n",
              "      <td>192000 km</td>\n",
              "      <td>6.0</td>\n",
              "      <td>Tiptronic</td>\n",
              "      <td>4x4</td>\n",
              "      <td>04-May</td>\n",
              "      <td>Left wheel</td>\n",
              "      <td>Black</td>\n",
              "      <td>8</td>\n",
              "    </tr>\n",
              "    <tr>\n",
              "      <th>2</th>\n",
              "      <td>8467</td>\n",
              "      <td>-</td>\n",
              "      <td>HONDA</td>\n",
              "      <td>FIT</td>\n",
              "      <td>2006</td>\n",
              "      <td>Hatchback</td>\n",
              "      <td>No</td>\n",
              "      <td>Petrol</td>\n",
              "      <td>1.3</td>\n",
              "      <td>200000 km</td>\n",
              "      <td>4.0</td>\n",
              "      <td>Variator</td>\n",
              "      <td>Front</td>\n",
              "      <td>04-May</td>\n",
              "      <td>Right-hand drive</td>\n",
              "      <td>Black</td>\n",
              "      <td>2</td>\n",
              "    </tr>\n",
              "    <tr>\n",
              "      <th>3</th>\n",
              "      <td>3607</td>\n",
              "      <td>862</td>\n",
              "      <td>FORD</td>\n",
              "      <td>Escape</td>\n",
              "      <td>2011</td>\n",
              "      <td>Jeep</td>\n",
              "      <td>Yes</td>\n",
              "      <td>Hybrid</td>\n",
              "      <td>2.5</td>\n",
              "      <td>168966 km</td>\n",
              "      <td>4.0</td>\n",
              "      <td>Automatic</td>\n",
              "      <td>4x4</td>\n",
              "      <td>04-May</td>\n",
              "      <td>Left wheel</td>\n",
              "      <td>White</td>\n",
              "      <td>0</td>\n",
              "    </tr>\n",
              "    <tr>\n",
              "      <th>4</th>\n",
              "      <td>11726</td>\n",
              "      <td>446</td>\n",
              "      <td>HONDA</td>\n",
              "      <td>FIT</td>\n",
              "      <td>2014</td>\n",
              "      <td>Hatchback</td>\n",
              "      <td>Yes</td>\n",
              "      <td>Petrol</td>\n",
              "      <td>1.3</td>\n",
              "      <td>91901 km</td>\n",
              "      <td>4.0</td>\n",
              "      <td>Automatic</td>\n",
              "      <td>Front</td>\n",
              "      <td>04-May</td>\n",
              "      <td>Left wheel</td>\n",
              "      <td>Silver</td>\n",
              "      <td>4</td>\n",
              "    </tr>\n",
              "  </tbody>\n",
              "</table>\n",
              "</div>"
            ],
            "text/plain": [
              "   Price  Levy Manufacturer    Model  ...   Doors             Wheel   Color Airbags\n",
              "0  13328  1399        LEXUS   RX 450  ...  04-May        Left wheel  Silver      12\n",
              "1  16621  1018    CHEVROLET  Equinox  ...  04-May        Left wheel   Black       8\n",
              "2   8467     -        HONDA      FIT  ...  04-May  Right-hand drive   Black       2\n",
              "3   3607   862         FORD   Escape  ...  04-May        Left wheel   White       0\n",
              "4  11726   446        HONDA      FIT  ...  04-May        Left wheel  Silver       4\n",
              "\n",
              "[5 rows x 17 columns]"
            ]
          },
          "metadata": {
            "tags": []
          },
          "execution_count": 13
        }
      ]
    },
    {
      "cell_type": "code",
      "metadata": {
        "id": "tEg19AzfhBvu"
      },
      "source": [
        "# We have to do some feature extractions \n",
        "# Separate out the categorical features and numerical features \n",
        "cat_features = [feature for feature in train.columns if train[feature].dtype==\"O\"]\n",
        "num_features = [feature for feature in train.columns if train[feature].dtype!=\"O\"]"
      ],
      "execution_count": 14,
      "outputs": []
    },
    {
      "cell_type": "code",
      "metadata": {
        "colab": {
          "base_uri": "https://localhost:8080/"
        },
        "id": "tjYF_I43hBvv",
        "outputId": "22c729cf-8c8f-4a72-8019-3f9a66033ad0"
      },
      "source": [
        "num_features ,cat_features"
      ],
      "execution_count": 15,
      "outputs": [
        {
          "output_type": "execute_result",
          "data": {
            "text/plain": [
              "(['Price', 'Prod. year', 'Cylinders', 'Airbags'],\n",
              " ['Levy',\n",
              "  'Manufacturer',\n",
              "  'Model',\n",
              "  'Category',\n",
              "  'Leather interior',\n",
              "  'Fuel type',\n",
              "  'Engine volume',\n",
              "  'Mileage',\n",
              "  'Gear box type',\n",
              "  'Drive wheels',\n",
              "  'Doors',\n",
              "  'Wheel',\n",
              "  'Color'])"
            ]
          },
          "metadata": {
            "tags": []
          },
          "execution_count": 15
        }
      ]
    },
    {
      "cell_type": "code",
      "metadata": {
        "id": "Oz_QCPoWhBvv"
      },
      "source": [
        "#Convert Numerical to categorical if any is there\n",
        "#Cylinders\n",
        "#train['Cylinders'].value_counts()\n",
        "train['Cylinders'] = train['Cylinders'].apply(str)\n",
        "test['Cylinders'] = test['Cylinders'].apply(str)"
      ],
      "execution_count": 16,
      "outputs": []
    },
    {
      "cell_type": "code",
      "metadata": {
        "id": "kRaZxdgRhBvw"
      },
      "source": [
        "#Airbags\n",
        "#train['Airbags'].value_counts()\n",
        "train['Airbags'] = train['Airbags'].apply(str)\n",
        "test['Airbags'] = test['Airbags'].apply(str)"
      ],
      "execution_count": 17,
      "outputs": []
    },
    {
      "cell_type": "code",
      "metadata": {
        "id": "o9nCnC9RhBvw"
      },
      "source": [
        "#Later think about Prod year and Engine volume"
      ],
      "execution_count": 18,
      "outputs": []
    },
    {
      "cell_type": "code",
      "metadata": {
        "colab": {
          "base_uri": "https://localhost:8080/"
        },
        "id": "McV1NiWchBvw",
        "outputId": "f8a61517-55a0-45fb-8376-f6299f270d14"
      },
      "source": [
        "for feature in cat_features:\n",
        "    print('Unique features in {} : {}'.format(feature,len(train[feature].unique())))"
      ],
      "execution_count": 19,
      "outputs": [
        {
          "output_type": "stream",
          "text": [
            "Unique features in Levy : 558\n",
            "Unique features in Manufacturer : 64\n",
            "Unique features in Model : 1578\n",
            "Unique features in Category : 12\n",
            "Unique features in Leather interior : 3\n",
            "Unique features in Fuel type : 8\n",
            "Unique features in Engine volume : 105\n",
            "Unique features in Mileage : 7680\n",
            "Unique features in Gear box type : 5\n",
            "Unique features in Drive wheels : 4\n",
            "Unique features in Doors : 4\n",
            "Unique features in Wheel : 3\n",
            "Unique features in Color : 17\n"
          ],
          "name": "stdout"
        }
      ]
    },
    {
      "cell_type": "code",
      "metadata": {
        "id": "nPanOtKBhBvx"
      },
      "source": [
        "# Convert object to Numerical\n",
        "# Levy,Mileage,Engine volume"
      ],
      "execution_count": 20,
      "outputs": []
    },
    {
      "cell_type": "markdown",
      "metadata": {
        "id": "zKWNbSdhBrMQ"
      },
      "source": [
        "Using the 'Engine volume' feature a new feature is created called 'Turbo engine'\n",
        "    data['Turbo_engine'] = data['Engine volume'].apply(lambda x: 'Yes' if x.split(\" \")[-1] == 'Turbo' else 'No')\n",
        "    data['Engine volume'] = data['Engine volume'].apply(lambda x: x.split(\" \")[0]).astype(float)"
      ]
    },
    {
      "cell_type": "code",
      "metadata": {
        "id": "EWY5ocbLhBvx"
      },
      "source": [
        "# Engine volume - Train \n",
        "train['Turbulance']=train['Engine volume'].replace(['2.0 Turbo', '2.2 Turbo','3.0 Turbo','1.4 Turbo','1.5 Turbo', '1.6 Turbo','2.3 Turbo','2.8 Turbo','1.8 Turbo', '2.4 Turbo', '3.5 Turbo', '3.2 Turbo','1.3 Turbo','2.5 Turbo','1.9 Turbo', '4.4 Turbo', '4.7 Turbo', '0.2 Turbo','4.8 Turbo', '4.6 Turbo','1.2 Turbo','1.7 Turbo', '6.3 Turbo', '2.7 Turbo','2.9 Turbo', '4.0 Turbo','3.6 Turbo','3.7 Turbo','5.5 Turbo','2.1 Turbo','0.7 Turbo', '0.6 Turbo','1.0 Turbo', '4.5 Turbo', '0.8 Turbo', '4.2 Turbo', '3.1', '5.0 Turbo','5.7 Turbo','0.4 Turbo', '5.4 Turbo', '0.3 Turbo','1.1 Turbo'],'Turbo')\n",
        "\n",
        "train['Turbulance']=train['Turbulance'].replace(['3.5','3','1.3','2.5','2','1.8','2.4','4','1.6','3.3','4.7','1.5','4.4','3.6','2.3','2.2','1.4','5.5','3.2','3.8','4.6','1.2','5', '1.7', '2.9', '0.5','1.9','2.7','4.8','5.3','0.4','2.8','1.1','2.1','0.7','5.4','3.7','1','2.6','5.7','3.4','4.3','4.2','5.9','6.8','4.5','0.6','7.3','0.1','6.3','6.4','5.2','5.8','0.8', '6.7', '6.2', '0', '20', '0.3', '0.2','5.6', '6', '3.9', '0.9'],'Non-Turbo')\n"
      ],
      "execution_count": 21,
      "outputs": []
    },
    {
      "cell_type": "code",
      "metadata": {
        "id": "NT9490zWhBvx"
      },
      "source": [
        "#Engine volume - test\n",
        "test['Turbulance']=test['Engine volume'].replace(['2.0 Turbo', '2.2 Turbo','3.0 Turbo','1.4 Turbo','1.5 Turbo', '1.6 Turbo','2.3 Turbo','2.8 Turbo','1.8 Turbo', '2.4 Turbo', '3.5 Turbo', '3.2 Turbo','1.3 Turbo','2.5 Turbo','1.9 Turbo', '4.4 Turbo', '4.7 Turbo', '0.2 Turbo','4.8 Turbo', '4.6 Turbo','1.2 Turbo','1.7 Turbo', '6.3 Turbo', '2.7 Turbo','2.9 Turbo', '4.0 Turbo','3.6 Turbo','3.7 Turbo','5.5 Turbo','2.1 Turbo','0.7 Turbo', '0.6 Turbo','1.0 Turbo', '4.5 Turbo', '0.8 Turbo', '4.2 Turbo', '3.1', '5.0 Turbo','5.7 Turbo','0.4 Turbo', '5.4 Turbo', '0.3 Turbo','1.1 Turbo','6.0 Turbo','2.6 Turbo'],'Turbo')\n",
        "\n",
        "test['Turbulance']=test['Turbulance'].replace(['3.5','3','1.3','2.5','2','1.8','2.4','4','1.6','3.3','4.7','1.5','4.4','3.6','2.3','2.2','1.4','5.5','3.2','3.8','4.6','1.2','5', '1.7', '2.9', '0.5','1.9','2.7','4.8','5.3','0.4','2.8','1.1','2.1','0.7','5.4','3.7','1','2.6','5.7','3.4','4.3','4.2','5.9','6.8','4.5','0.6','7.3','0.1','6.3','6.4','5.2','5.8','0.8', '6.7', '6.2', '0', '20', '0.3', '0.2','5.6', '6', '3.9', '0.9','6.6', '6.1', '10.8'],'Non-Turbo')"
      ],
      "execution_count": 22,
      "outputs": []
    },
    {
      "cell_type": "code",
      "metadata": {
        "id": "mzxegtPdhBvy"
      },
      "source": [
        "# remove Turbo - Train\n",
        "train['Engine volume'] = train['Engine volume'].str.replace('Turbo',' ')\n",
        "# Str to float\n",
        "train['Engine volume'] = train['Engine volume'].astype(float)\n",
        "\n",
        "# remove Turbo - Test\n",
        "test['Engine volume'] = test['Engine volume'].str.replace('Turbo',' ')\n",
        "# Str to float\n",
        "test['Engine volume'] = test['Engine volume'].astype(float)"
      ],
      "execution_count": 23,
      "outputs": []
    },
    {
      "cell_type": "code",
      "metadata": {
        "id": "Nf5mcQS9hBvy"
      },
      "source": [
        "# Mileage - Train\n",
        "train['Mileage'] = train['Mileage'].str.replace('km',' ')\n",
        "train['Mileage'] = train[\"Mileage\"].astype(float)\n",
        "\n",
        "# Mileage  -Test\n",
        "test['Mileage'] = test['Mileage'].str.replace('km',' ')\n",
        "test['Mileage'] = test[\"Mileage\"].astype(float)"
      ],
      "execution_count": 24,
      "outputs": []
    },
    {
      "cell_type": "code",
      "metadata": {
        "id": "dme4eeK6hBvy"
      },
      "source": [
        "# Levy - train\n",
        "train['Levy']= train['Levy'].replace({'-':np.nan})\n",
        "train[\"Levy\"]= train[\"Levy\"].astype(float)\n",
        "\n",
        "# Levy - Test\n",
        "test['Levy']= test['Levy'].replace({'-':np.nan})\n",
        "test[\"Levy\"]= test[\"Levy\"].astype(float)"
      ],
      "execution_count": 25,
      "outputs": []
    },
    {
      "cell_type": "code",
      "metadata": {
        "colab": {
          "base_uri": "https://localhost:8080/"
        },
        "id": "1qY6BwvjhBvz",
        "outputId": "acbce975-03cf-4231-a54d-fa0c085bb650"
      },
      "source": [
        "# Check for the null values\n",
        "train.isnull().sum()"
      ],
      "execution_count": 26,
      "outputs": [
        {
          "output_type": "execute_result",
          "data": {
            "text/plain": [
              "Price                  0\n",
              "Levy                5802\n",
              "Manufacturer           0\n",
              "Model                  0\n",
              "Prod. year             0\n",
              "Category               0\n",
              "Leather interior       0\n",
              "Fuel type              0\n",
              "Engine volume         27\n",
              "Mileage               27\n",
              "Cylinders              0\n",
              "Gear box type          0\n",
              "Drive wheels           0\n",
              "Doors                  0\n",
              "Wheel                  0\n",
              "Color                  0\n",
              "Airbags                0\n",
              "Turbulance             0\n",
              "dtype: int64"
            ]
          },
          "metadata": {
            "tags": []
          },
          "execution_count": 26
        }
      ]
    },
    {
      "cell_type": "code",
      "metadata": {
        "id": "VE56yjpwhBvz"
      },
      "source": [
        "# Since there ar outlies we can replace the Nan with mode value\n",
        "train['Levy'] = train['Levy'].fillna(train['Levy'].mode()[0])\n",
        "train['Engine volume'] = train['Engine volume'].fillna(train['Engine volume'].mode()[0])\n",
        "train['Mileage'] = train['Mileage'].fillna(train['Mileage'].mode()[0])\n",
        "\n",
        "test['Levy'] = test['Levy'].fillna(test['Levy'].mode()[0])"
      ],
      "execution_count": 27,
      "outputs": []
    },
    {
      "cell_type": "markdown",
      "metadata": {
        "id": "MOy5dMlRhBv0"
      },
      "source": [
        "Label Encoding some categorical variables that may contain information in their ordering set"
      ]
    },
    {
      "cell_type": "code",
      "metadata": {
        "colab": {
          "base_uri": "https://localhost:8080/"
        },
        "id": "4-RPMDNAhBv0",
        "outputId": "2a8778e1-3a5b-4fc2-d8d9-7053a7f93966"
      },
      "source": [
        "from sklearn.preprocessing import LabelEncoder\n",
        "cols = ('Cylinders','Gear box type','Drive wheels','Doors','Airbags')\n",
        "# process columns, apply LabelEncoder to categorical features\n",
        "for c in cols:\n",
        "    lbl = LabelEncoder() \n",
        "    lbl.fit(list(train[c].values)) \n",
        "    train[c] = lbl.transform(list(train[c].values))\n",
        "    test[c]  = lbl.fit_transform(list(test[c].values))\n",
        "# shape        \n",
        "print('Shape all_data: {}'.format(train.shape))\n",
        "print('Shape all_data: {}'.format(test.shape))"
      ],
      "execution_count": 28,
      "outputs": [
        {
          "output_type": "stream",
          "text": [
            "Shape all_data: (19237, 18)\n",
            "Shape all_data: (8245, 18)\n"
          ],
          "name": "stdout"
        }
      ]
    },
    {
      "cell_type": "code",
      "metadata": {
        "colab": {
          "base_uri": "https://localhost:8080/",
          "height": 0
        },
        "id": "jb80UJrNhBv2",
        "outputId": "486454c5-f417-487e-d880-bd51d002b878"
      },
      "source": [
        "train.select_dtypes(include=np.number).head()"
      ],
      "execution_count": 29,
      "outputs": [
        {
          "output_type": "execute_result",
          "data": {
            "text/html": [
              "<div>\n",
              "<style scoped>\n",
              "    .dataframe tbody tr th:only-of-type {\n",
              "        vertical-align: middle;\n",
              "    }\n",
              "\n",
              "    .dataframe tbody tr th {\n",
              "        vertical-align: top;\n",
              "    }\n",
              "\n",
              "    .dataframe thead th {\n",
              "        text-align: right;\n",
              "    }\n",
              "</style>\n",
              "<table border=\"1\" class=\"dataframe\">\n",
              "  <thead>\n",
              "    <tr style=\"text-align: right;\">\n",
              "      <th></th>\n",
              "      <th>Price</th>\n",
              "      <th>Levy</th>\n",
              "      <th>Prod. year</th>\n",
              "      <th>Engine volume</th>\n",
              "      <th>Mileage</th>\n",
              "      <th>Cylinders</th>\n",
              "      <th>Gear box type</th>\n",
              "      <th>Drive wheels</th>\n",
              "      <th>Doors</th>\n",
              "      <th>Airbags</th>\n",
              "    </tr>\n",
              "  </thead>\n",
              "  <tbody>\n",
              "    <tr>\n",
              "      <th>0</th>\n",
              "      <td>13328</td>\n",
              "      <td>1399.0</td>\n",
              "      <td>2010</td>\n",
              "      <td>3.5</td>\n",
              "      <td>186005.0</td>\n",
              "      <td>10</td>\n",
              "      <td>1</td>\n",
              "      <td>1</td>\n",
              "      <td>1</td>\n",
              "      <td>4</td>\n",
              "    </tr>\n",
              "    <tr>\n",
              "      <th>1</th>\n",
              "      <td>16621</td>\n",
              "      <td>1018.0</td>\n",
              "      <td>2011</td>\n",
              "      <td>3.0</td>\n",
              "      <td>192000.0</td>\n",
              "      <td>10</td>\n",
              "      <td>3</td>\n",
              "      <td>1</td>\n",
              "      <td>1</td>\n",
              "      <td>16</td>\n",
              "    </tr>\n",
              "    <tr>\n",
              "      <th>2</th>\n",
              "      <td>8467</td>\n",
              "      <td>765.0</td>\n",
              "      <td>2006</td>\n",
              "      <td>1.3</td>\n",
              "      <td>200000.0</td>\n",
              "      <td>8</td>\n",
              "      <td>4</td>\n",
              "      <td>2</td>\n",
              "      <td>1</td>\n",
              "      <td>10</td>\n",
              "    </tr>\n",
              "    <tr>\n",
              "      <th>3</th>\n",
              "      <td>3607</td>\n",
              "      <td>862.0</td>\n",
              "      <td>2011</td>\n",
              "      <td>2.5</td>\n",
              "      <td>168966.0</td>\n",
              "      <td>8</td>\n",
              "      <td>1</td>\n",
              "      <td>1</td>\n",
              "      <td>1</td>\n",
              "      <td>0</td>\n",
              "    </tr>\n",
              "    <tr>\n",
              "      <th>4</th>\n",
              "      <td>11726</td>\n",
              "      <td>446.0</td>\n",
              "      <td>2014</td>\n",
              "      <td>1.3</td>\n",
              "      <td>91901.0</td>\n",
              "      <td>8</td>\n",
              "      <td>1</td>\n",
              "      <td>2</td>\n",
              "      <td>1</td>\n",
              "      <td>12</td>\n",
              "    </tr>\n",
              "  </tbody>\n",
              "</table>\n",
              "</div>"
            ],
            "text/plain": [
              "   Price    Levy  Prod. year  ...  Drive wheels  Doors  Airbags\n",
              "0  13328  1399.0        2010  ...             1      1        4\n",
              "1  16621  1018.0        2011  ...             1      1       16\n",
              "2   8467   765.0        2006  ...             2      1       10\n",
              "3   3607   862.0        2011  ...             1      1        0\n",
              "4  11726   446.0        2014  ...             2      1       12\n",
              "\n",
              "[5 rows x 10 columns]"
            ]
          },
          "metadata": {
            "tags": []
          },
          "execution_count": 29
        }
      ]
    },
    {
      "cell_type": "code",
      "metadata": {
        "id": "eT6iqfnohBv2"
      },
      "source": [
        "# Check for the outliers in the following columns\n",
        "#Levy, Prod.year, Engien volume, Mileage"
      ],
      "execution_count": 30,
      "outputs": []
    },
    {
      "cell_type": "code",
      "metadata": {
        "colab": {
          "base_uri": "https://localhost:8080/",
          "height": 0
        },
        "id": "qqBrNdF70cfZ",
        "cellView": "code",
        "outputId": "8d258f17-d04e-43cd-c0cb-7740eef1e97f"
      },
      "source": [
        "#@title Default title text\n",
        "# Levy\n",
        "plt.figure(figsize=(10,3))\n",
        "plt.scatter(train['Levy'],train['Price'])\n",
        "plt.xlabel('Levy')\n",
        "plt.ylabel('Price')\n"
      ],
      "execution_count": 31,
      "outputs": [
        {
          "output_type": "execute_result",
          "data": {
            "text/plain": [
              "Text(0, 0.5, 'Price')"
            ]
          },
          "metadata": {
            "tags": []
          },
          "execution_count": 31
        },
        {
          "output_type": "display_data",
          "data": {
            "image/png": "[encoded data removed]",
            "text/plain": [
              "<Figure size 1000x300 with 1 Axes>"
            ]
          },
          "metadata": {
            "tags": []
          }
        }
      ]
    },
    {
      "cell_type": "code",
      "metadata": {
        "colab": {
          "base_uri": "https://localhost:8080/",
          "height": 0
        },
        "id": "AdwA56ZG0KUB",
        "outputId": "3ebaf16d-f290-43e9-f75e-395ab1e76542"
      },
      "source": [
        "fig,axs = plt.subplots(1,2,figsize=(12,3))\n",
        "sns.boxplot(train['Levy'],ax=axs[0])\n",
        "Q1 = train['Levy'].quantile(0.25)\n",
        "Q3 = train['Levy'].quantile(0.75)\n",
        "IQR = Q3-Q1\n",
        "print(Q1-1.5*IQR,Q3+1.5*IQR)\n",
        "# We can replace the values outside the iqr range\n",
        "filter = (train['Levy']<Q1-1.5*IQR) | (train['Levy']>Q3+1.5*IQR)\n",
        "train['Levy'][filter] = train['Levy'].mode()[0]\n",
        "\n",
        "sns.boxplot(train['Levy'],ax=axs[1])"
      ],
      "execution_count": 32,
      "outputs": [
        {
          "output_type": "stream",
          "text": [
            "449.5 1197.5\n"
          ],
          "name": "stdout"
        },
        {
          "output_type": "execute_result",
          "data": {
            "text/plain": [
              "<matplotlib.axes._subplots.AxesSubplot at 0x7f6e301da350>"
            ]
          },
          "metadata": {
            "tags": []
          },
          "execution_count": 32
        },
        {
          "output_type": "display_data",
          "data": {
            "image/png": "[encoded data removed]",
            "text/plain": [
              "<Figure size 1200x300 with 2 Axes>"
            ]
          },
          "metadata": {
            "tags": []
          }
        }
      ]
    },
    {
      "cell_type": "code",
      "metadata": {
        "colab": {
          "base_uri": "https://localhost:8080/",
          "height": 0
        },
        "id": "B6ArnYAz8uIj",
        "outputId": "745b2f49-0072-478c-80d6-7b2c40091a99"
      },
      "source": [
        "# Levy\n",
        "plt.figure(figsize=(10,3))\n",
        "plt.scatter(train['Levy'],train['Price'])\n",
        "plt.xlabel('Levy')\n",
        "plt.ylabel('Price')"
      ],
      "execution_count": 33,
      "outputs": [
        {
          "output_type": "execute_result",
          "data": {
            "text/plain": [
              "Text(0, 0.5, 'Price')"
            ]
          },
          "metadata": {
            "tags": []
          },
          "execution_count": 33
        },
        {
          "output_type": "display_data",
          "data": {
            "image/png": "[encoded data removed]",
            "text/plain": [
              "<Figure size 1000x300 with 1 Axes>"
            ]
          },
          "metadata": {
            "tags": []
          }
        }
      ]
    },
    {
      "cell_type": "code",
      "metadata": {
        "colab": {
          "base_uri": "https://localhost:8080/",
          "height": 0
        },
        "id": "OeclniI3hBv3",
        "outputId": "9314a818-f80c-4991-e960-f297457c500b"
      },
      "source": [
        "# Test data\n",
        "plt.figure(figsize=(8,2))\n",
        "sns.boxplot(test['Levy'])"
      ],
      "execution_count": 34,
      "outputs": [
        {
          "output_type": "execute_result",
          "data": {
            "text/plain": [
              "<matplotlib.axes._subplots.AxesSubplot at 0x7f6e30550d10>"
            ]
          },
          "metadata": {
            "tags": []
          },
          "execution_count": 34
        },
        {
          "output_type": "display_data",
          "data": {
            "image/png": "[encoded data removed]",
            "text/plain": [
              "<Figure size 800x200 with 1 Axes>"
            ]
          },
          "metadata": {
            "tags": []
          }
        }
      ]
    },
    {
      "cell_type": "code",
      "metadata": {
        "colab": {
          "base_uri": "https://localhost:8080/",
          "height": 0
        },
        "id": "2JWg4Z-gIqia",
        "outputId": "022a6d07-993f-407a-e78a-5f2ec89d1711"
      },
      "source": [
        "# Prod. year - train\n",
        "fig,axs = plt.subplots(1,2,figsize=(16,3))\n",
        "sns.boxplot(train['Prod. year'],ax=axs[0])\n",
        "Q1 = train['Prod. year'].quantile(0.25)\n",
        "Q3 = train['Prod. year'].quantile(0.75)\n",
        "IQR = Q3-Q1\n",
        "print(Q1-1.5*IQR,Q3+1.5*IQR)\n",
        "\n",
        " #We can replace the values outside the iqr range\n",
        "filter = (train['Prod. year']< 1990) | (train['Prod. year']>Q3+1.5*IQR)\n",
        "train['Prod. year'][filter] = train['Prod. year'].mode()[0]\n",
        "\n",
        "sns.boxplot(train['Prod. year'],ax=axs[1])\n",
        "plt.xticks(rotation=90)"
      ],
      "execution_count": 35,
      "outputs": [
        {
          "output_type": "stream",
          "text": [
            "2000.0 2024.0\n"
          ],
          "name": "stdout"
        },
        {
          "output_type": "execute_result",
          "data": {
            "text/plain": [
              "(array([1985., 1990., 1995., 2000., 2005., 2010., 2015., 2020., 2025.]),\n",
              " <a list of 9 Text major ticklabel objects>)"
            ]
          },
          "metadata": {
            "tags": []
          },
          "execution_count": 35
        },
        {
          "output_type": "display_data",
          "data": {
            "image/png": "[encoded data removed]",
            "text/plain": [
              "<Figure size 1600x300 with 2 Axes>"
            ]
          },
          "metadata": {
            "tags": []
          }
        }
      ]
    },
    {
      "cell_type": "code",
      "metadata": {
        "colab": {
          "base_uri": "https://localhost:8080/",
          "height": 0
        },
        "id": "QlCVRdZVhBv5",
        "outputId": "e41d00a6-88ba-47a1-fcb6-cbee58eb25ee"
      },
      "source": [
        "plt.figure(figsize=(15,4))\n",
        "sns.countplot(train['Prod. year'])\n",
        "plt.xticks(rotation=90)"
      ],
      "execution_count": 36,
      "outputs": [
        {
          "output_type": "execute_result",
          "data": {
            "text/plain": [
              "(array([ 0,  1,  2,  3,  4,  5,  6,  7,  8,  9, 10, 11, 12, 13, 14, 15, 16,\n",
              "        17, 18, 19, 20, 21, 22, 23, 24, 25, 26, 27, 28, 29, 30]),\n",
              " <a list of 31 Text major ticklabel objects>)"
            ]
          },
          "metadata": {
            "tags": []
          },
          "execution_count": 36
        },
        {
          "output_type": "display_data",
          "data": {
            "image/png": "[encoded data removed]",
            "text/plain": [
              "<Figure size 1500x400 with 1 Axes>"
            ]
          },
          "metadata": {
            "tags": []
          }
        }
      ]
    },
    {
      "cell_type": "code",
      "metadata": {
        "id": "kj_TFUtThBv5"
      },
      "source": [
        "#For test data\n",
        "# We can replace the years less than 1990 by mode value\n",
        "test[test['Prod. year']<1990] = test['Prod. year'].mode()[0]"
      ],
      "execution_count": 37,
      "outputs": []
    },
    {
      "cell_type": "code",
      "metadata": {
        "colab": {
          "base_uri": "https://localhost:8080/",
          "height": 0
        },
        "id": "qxYSQBczXYRX",
        "outputId": "795278fd-dcfb-4687-974a-5a56838792de"
      },
      "source": [
        "fig,axs = plt.subplots(1,2,figsize=(16,3))\n",
        "sns.boxplot(train['Engine volume'],ax=axs[0])\n",
        "Q1 = train['Engine volume'].quantile(0.25)\n",
        "Q3 = train['Engine volume'].quantile(0.75)\n",
        "IQR = Q3-Q1\n",
        "print(Q1-1.5*IQR,Q3+1.5*IQR)\n",
        "\n",
        "filter = (train['Engine volume']< Q1-1.5*IQR) | (train['Engine volume']>Q3+1.5*IQR)\n",
        "train['Engine volume'][filter] = train['Engine volume'].mode()[0]\n",
        "sns.boxplot(train['Engine volume'],ax=axs[1])"
      ],
      "execution_count": 38,
      "outputs": [
        {
          "output_type": "stream",
          "text": [
            "0.7500000000000002 3.55\n"
          ],
          "name": "stdout"
        },
        {
          "output_type": "execute_result",
          "data": {
            "text/plain": [
              "<matplotlib.axes._subplots.AxesSubplot at 0x7f6e307656d0>"
            ]
          },
          "metadata": {
            "tags": []
          },
          "execution_count": 38
        },
        {
          "output_type": "display_data",
          "data": {
            "image/png": "[encoded data removed]",
            "text/plain": [
              "<Figure size 1600x300 with 2 Axes>"
            ]
          },
          "metadata": {
            "tags": []
          }
        }
      ]
    },
    {
      "cell_type": "code",
      "metadata": {
        "colab": {
          "base_uri": "https://localhost:8080/",
          "height": 0
        },
        "id": "O5rLPMCaPt5H",
        "outputId": "b9f17ff7-a100-4f2b-e95d-5c9609acbbd5"
      },
      "source": [
        "# Mileage - train\n",
        "fig,axs = plt.subplots(1,2,figsize=(12,2))\n",
        "sns.boxplot(train['Mileage'],ax=axs[0])\n",
        "Q1 = train['Mileage'].quantile(0.25)\n",
        "Q3 = train['Mileage'].quantile(0.75)\n",
        "IQR = Q3-Q1\n",
        "print(Q1-1.5*IQR,Q3+1.5*IQR)\n",
        "\n",
        "filter = (train['Mileage']<Q1-1.5*IQR) | (train['Mileage']>Q3+1.5*IQR)\n",
        "train['Mileage'][filter] = train['Mileage'].mode()[0]\n",
        "sns.boxplot(train['Mileage'],ax=axs[1])"
      ],
      "execution_count": 39,
      "outputs": [
        {
          "output_type": "stream",
          "text": [
            "-108332.0 367220.0\n"
          ],
          "name": "stdout"
        },
        {
          "output_type": "execute_result",
          "data": {
            "text/plain": [
              "<matplotlib.axes._subplots.AxesSubplot at 0x7f6e304e2c50>"
            ]
          },
          "metadata": {
            "tags": []
          },
          "execution_count": 39
        },
        {
          "output_type": "display_data",
          "data": {
            "image/png": "[encoded data removed]",
            "text/plain": [
              "<Figure size 1200x200 with 2 Axes>"
            ]
          },
          "metadata": {
            "tags": []
          }
        }
      ]
    },
    {
      "cell_type": "code",
      "metadata": {
        "colab": {
          "base_uri": "https://localhost:8080/",
          "height": 0
        },
        "id": "J7QDs5m6Ymg-",
        "outputId": "54e7f47e-c48b-4832-f6d4-cefd46b4d71d"
      },
      "source": [
        "# Mileage - test\n",
        "fig,axs = plt.subplots(1,2,figsize=(12,2))\n",
        "sns.boxplot(test['Mileage'],ax=axs[0])\n",
        "Q1 = test['Mileage'].quantile(0.25)\n",
        "Q3 = test['Mileage'].quantile(0.75)\n",
        "IQR = Q3-Q1\n",
        "print(Q1-1.5*IQR,Q3+1.5*IQR)\n",
        "\n",
        "filter = (train['Mileage']<Q1-1.5*IQR) | (train['Mileage']>Q3+1.5*IQR)\n",
        "train['Mileage'][filter] = train['Mileage'].mode()[0]\n",
        "sns.boxplot(train['Mileage'],ax=axs[1])"
      ],
      "execution_count": 40,
      "outputs": [
        {
          "output_type": "stream",
          "text": [
            "-110500.0 373500.0\n"
          ],
          "name": "stdout"
        },
        {
          "output_type": "execute_result",
          "data": {
            "text/plain": [
              "<matplotlib.axes._subplots.AxesSubplot at 0x7f6e30302450>"
            ]
          },
          "metadata": {
            "tags": []
          },
          "execution_count": 40
        },
        {
          "output_type": "display_data",
          "data": {
            "image/png": "[encoded data removed]",
            "text/plain": [
              "<Figure size 1200x200 with 2 Axes>"
            ]
          },
          "metadata": {
            "tags": []
          }
        }
      ]
    },
    {
      "cell_type": "code",
      "metadata": {
        "id": "rtrNgV1Wrb4U"
      },
      "source": [
        "#Fitting count encoder on the features 'Manufacturer' , 'Model' , 'Color'\n",
        "countencoder =  ce.CountEncoder(cols=['Manufacturer' , 'Model' , 'Color'],handle_unknown = 1)\n",
        "train = countencoder.fit_transform(train)\n",
        "\n",
        "test = countencoder.transform(test)"
      ],
      "execution_count": 41,
      "outputs": []
    },
    {
      "cell_type": "code",
      "metadata": {
        "id": "k9vKCFCbhBv8"
      },
      "source": [
        "# Dummy categorical features\n",
        "train = pd.get_dummies(train,drop_first=True)\n",
        "\n",
        "test = pd.get_dummies(test,drop_first=True)"
      ],
      "execution_count": 42,
      "outputs": []
    },
    {
      "cell_type": "code",
      "metadata": {
        "colab": {
          "base_uri": "https://localhost:8080/"
        },
        "id": "bV7wm5B9hBv8",
        "outputId": "dda379c3-b7c7-4664-8319-76bb8b9cf9cf"
      },
      "source": [
        "train.shape,test.shape"
      ],
      "execution_count": 43,
      "outputs": [
        {
          "output_type": "execute_result",
          "data": {
            "text/plain": [
              "((19237, 37), (8245, 37))"
            ]
          },
          "metadata": {
            "tags": []
          },
          "execution_count": 43
        }
      ]
    },
    {
      "cell_type": "code",
      "metadata": {
        "colab": {
          "base_uri": "https://localhost:8080/",
          "height": 0
        },
        "id": "d3Mr2cg3hBv9",
        "outputId": "36143ef4-c734-4f77-ff38-dc7d61ff5a03"
      },
      "source": [
        "plt.figure(figsize=(20,20))\n",
        "corr = train.corr()\n",
        "#sns.heatmap(corr,square=True)"
      ],
      "execution_count": 44,
      "outputs": [
        {
          "output_type": "display_data",
          "data": {
            "text/plain": [
              "<Figure size 2000x2000 with 0 Axes>"
            ]
          },
          "metadata": {
            "tags": []
          }
        }
      ]
    },
    {
      "cell_type": "code",
      "metadata": {
        "id": "2uei_4SYhBv-"
      },
      "source": [
        "y = train.Price.values\n",
        "train.drop(['Price'],axis=1,inplace=True)\n",
        "test.drop(['Price'],axis=1,inplace=True)"
      ],
      "execution_count": 45,
      "outputs": []
    },
    {
      "cell_type": "code",
      "metadata": {
        "id": "2zJMhChGhBv-"
      },
      "source": [
        "# We can use Minmaxscaler scaler to scale the data\n",
        "scaler = MinMaxScaler()\n",
        "train_scaled = pd.DataFrame(scaler.fit_transform(train),columns=train.columns)\n",
        "test_scaled = pd.DataFrame(scaler.fit_transform(test),columns=train.columns)"
      ],
      "execution_count": 46,
      "outputs": []
    },
    {
      "cell_type": "code",
      "metadata": {
        "colab": {
          "base_uri": "https://localhost:8080/",
          "height": 0
        },
        "id": "XbEe9Xhqc_iX",
        "outputId": "4d1f94af-5b47-4ba0-fba0-b19dc6bb00b9"
      },
      "source": [
        "#We use the numpy fuction log1p which  applies log(1+x) to all elements of the column\n",
        "#y = boxcox1p(y,0.25)\n",
        "y = np.log1p(y)\n",
        "\n",
        "#train_data[\"Price\"] = np.log1p(train_data['Price']+1)\n",
        "#Check the new distribution \n",
        "sns.distplot(y , fit=norm);\n",
        "\n",
        "#Get the fitted parameters used by the function\n",
        "(mu, sigma) = norm.fit(y)\n",
        "print( '\\n mu = {:.2f} and sigma = {:.2f}\\n'.format(mu, sigma))\n",
        "\n",
        "#Now plot the distribution\n",
        "plt.legend(['Normal dist. ($\\mu=$ {:.2f} and $\\sigma=$ {:.2f} )'.format(mu, sigma)],\n",
        "            loc='best')\n",
        "plt.ylabel('Frequency')\n",
        "plt.title('Price distribution')\n",
        "\n",
        "#Get also the QQ-plot\n",
        "fig = plt.figure()\n",
        "res = stats.probplot(y, plot=plt)\n",
        "plt.show()\n"
      ],
      "execution_count": 47,
      "outputs": [
        {
          "output_type": "stream",
          "text": [
            "\n",
            " mu = 9.02 and sigma = 1.58\n",
            "\n"
          ],
          "name": "stdout"
        },
        {
          "output_type": "display_data",
          "data": {
            "image/png": "[encoded data removed]",
            "text/plain": [
              "<Figure size 640x480 with 1 Axes>"
            ]
          },
          "metadata": {
            "tags": []
          }
        },
        {
          "output_type": "display_data",
          "data": {
            "image/png": "[encoded data removed]",
            "text/plain": [
              "<Figure size 640x480 with 1 Axes>"
            ]
          },
          "metadata": {
            "tags": []
          }
        }
      ]
    },
    {
      "cell_type": "code",
      "metadata": {
        "id": "u3Yw9H092Ub-"
      },
      "source": [
        "#Ouantile transformation is done on train data \n",
        "#This reduces the impact of outliers in the prediction \n",
        "qt = QuantileTransformer(random_state=123 , output_distribution = 'normal' , n_quantiles=1000)\n",
        "\n",
        "train = qt.fit_transform(train_scaled)\n",
        "test = qt.transform(test_scaled)"
      ],
      "execution_count": 48,
      "outputs": []
    },
    {
      "cell_type": "markdown",
      "metadata": {
        "id": "p5gr_YcYhBwA"
      },
      "source": [
        "# 3. Modelling"
      ]
    },
    {
      "cell_type": "code",
      "metadata": {
        "id": "OQsIgpvjb_sd"
      },
      "source": [
        "# Libraries required for Modelling and Evaluation\n",
        "from sklearn.metrics import mean_squared_log_error\n",
        "from sklearn.model_selection import train_test_split\n",
        "from scipy.special import boxcox1p,inv_boxcox1p\n",
        "\n",
        "import pickle\n",
        "from sklearn.linear_model import LinearRegression\n",
        "from sklearn.ensemble import RandomForestRegressor,ExtraTreesRegressor\n",
        "\n",
        "from sklearn.feature_selection import SelectKBest\n",
        "from sklearn.feature_selection import chi2\n",
        "\n",
        "from sklearn.model_selection import KFold,RandomizedSearchCV\n",
        "from sklearn.metrics import mean_squared_error,r2_score,mean_absolute_error\n",
        "\n",
        "from lightgbm import LGBMRegressor\n",
        "from xgboost import XGBRegressor\n",
        "from catboost import CatBoostRegressor"
      ],
      "execution_count": 49,
      "outputs": []
    },
    {
      "cell_type": "code",
      "metadata": {
        "id": "n1gcFLA2hBwA"
      },
      "source": [
        "# Define root_meansquared_log_error\n",
        "def rmsle(y, y_pred):\n",
        "    return np.sqrt(mean_squared_log_error(y, y_pred))"
      ],
      "execution_count": 50,
      "outputs": []
    },
    {
      "cell_type": "code",
      "metadata": {
        "id": "QYsnTS-0hBwB"
      },
      "source": [
        "#Split the data into training and testing\n",
        "x_train,x_test,y_train,y_test = train_test_split(train_scaled,y,test_size=0.25,random_state=0)"
      ],
      "execution_count": 51,
      "outputs": []
    },
    {
      "cell_type": "code",
      "metadata": {
        "colab": {
          "base_uri": "https://localhost:8080/"
        },
        "id": "UniFKwgla89Q",
        "outputId": "15ab8981-4613-4174-e369-c8b407715137"
      },
      "source": [
        "# Random Forest Model - Fit model\n",
        "rf = RandomForestRegressor(n_estimators=100,min_samples_split=5,min_samples_leaf=1,max_features='sqrt',max_depth=5)\n",
        "rf.fit(x_train,y_train)"
      ],
      "execution_count": 52,
      "outputs": [
        {
          "output_type": "execute_result",
          "data": {
            "text/plain": [
              "RandomForestRegressor(bootstrap=True, ccp_alpha=0.0, criterion='mse',\n",
              "                      max_depth=5, max_features='sqrt', max_leaf_nodes=None,\n",
              "                      max_samples=None, min_impurity_decrease=0.0,\n",
              "                      min_impurity_split=None, min_samples_leaf=1,\n",
              "                      min_samples_split=5, min_weight_fraction_leaf=0.0,\n",
              "                      n_estimators=100, n_jobs=None, oob_score=False,\n",
              "                      random_state=None, verbose=0, warm_start=False)"
            ]
          },
          "metadata": {
            "tags": []
          },
          "execution_count": 52
        }
      ]
    },
    {
      "cell_type": "code",
      "metadata": {
        "colab": {
          "base_uri": "https://localhost:8080/"
        },
        "id": "ndBLS1y6FAn3",
        "outputId": "f07692a2-4490-4058-cf9a-d83cdcd8e405"
      },
      "source": [
        "#Fitting extra tree regressor model on the train data\n",
        "etr = ExtraTreesRegressor(random_state = 123 , max_depth = 45  , n_estimators = 400)\n",
        "etr.fit(x_train,y_train)"
      ],
      "execution_count": 53,
      "outputs": [
        {
          "output_type": "execute_result",
          "data": {
            "text/plain": [
              "ExtraTreesRegressor(bootstrap=False, ccp_alpha=0.0, criterion='mse',\n",
              "                    max_depth=45, max_features='auto', max_leaf_nodes=None,\n",
              "                    max_samples=None, min_impurity_decrease=0.0,\n",
              "                    min_impurity_split=None, min_samples_leaf=1,\n",
              "                    min_samples_split=2, min_weight_fraction_leaf=0.0,\n",
              "                    n_estimators=400, n_jobs=None, oob_score=False,\n",
              "                    random_state=123, verbose=0, warm_start=False)"
            ]
          },
          "metadata": {
            "tags": []
          },
          "execution_count": 53
        }
      ]
    },
    {
      "cell_type": "code",
      "metadata": {
        "colab": {
          "base_uri": "https://localhost:8080/"
        },
        "id": "JKhTZOePFJL1",
        "outputId": "05298618-9a92-4f09-df0b-f51adc2f04b1"
      },
      "source": [
        "#Fitting LBMRegressor regressor model on the train data\n",
        "lgbm = LGBMRegressor(random_state = 123 ,  num_leaves = 750 , learning_rate = 0.01, max_bin = 1200 , n_estimators = 1000)\n",
        "lgbm.fit(x_train,y_train)"
      ],
      "execution_count": 54,
      "outputs": [
        {
          "output_type": "execute_result",
          "data": {
            "text/plain": [
              "LGBMRegressor(boosting_type='gbdt', class_weight=None, colsample_bytree=1.0,\n",
              "              importance_type='split', learning_rate=0.01, max_bin=1200,\n",
              "              max_depth=-1, min_child_samples=20, min_child_weight=0.001,\n",
              "              min_split_gain=0.0, n_estimators=1000, n_jobs=-1, num_leaves=750,\n",
              "              objective=None, random_state=123, reg_alpha=0.0, reg_lambda=0.0,\n",
              "              silent=True, subsample=1.0, subsample_for_bin=200000,\n",
              "              subsample_freq=0)"
            ]
          },
          "metadata": {
            "tags": []
          },
          "execution_count": 54
        }
      ]
    },
    {
      "cell_type": "code",
      "metadata": {
        "colab": {
          "base_uri": "https://localhost:8080/"
        },
        "id": "_p2CQqT_ZPlb",
        "outputId": "91f314b0-ac5d-4ce0-83f0-0842127cf086"
      },
      "source": [
        "#Fitting xgboost regressor model on the train data\n",
        "xgb = XGBRegressor(random_state = 123 , max_depth = 7 , learning_rate = 0.2 , n_estimators = 1500)\n",
        "xgb.fit(x_train , y_train)"
      ],
      "execution_count": 55,
      "outputs": [
        {
          "output_type": "stream",
          "text": [
            "[12:58:46] WARNING: /workspace/src/objective/regression_obj.cu:152: reg:linear is now deprecated in favor of reg:squarederror.\n"
          ],
          "name": "stdout"
        },
        {
          "output_type": "execute_result",
          "data": {
            "text/plain": [
              "XGBRegressor(base_score=0.5, booster='gbtree', colsample_bylevel=1,\n",
              "             colsample_bynode=1, colsample_bytree=1, gamma=0,\n",
              "             importance_type='gain', learning_rate=0.2, max_delta_step=0,\n",
              "             max_depth=7, min_child_weight=1, missing=None, n_estimators=1500,\n",
              "             n_jobs=1, nthread=None, objective='reg:linear', random_state=123,\n",
              "             reg_alpha=0, reg_lambda=1, scale_pos_weight=1, seed=None,\n",
              "             silent=None, subsample=1, verbosity=1)"
            ]
          },
          "metadata": {
            "tags": []
          },
          "execution_count": 55
        }
      ]
    },
    {
      "cell_type": "code",
      "metadata": {
        "colab": {
          "base_uri": "https://localhost:8080/"
        },
        "id": "d6BCHL_dZucs",
        "outputId": "6f72bdf1-20e3-4749-ccad-5d5e6374ea0c"
      },
      "source": [
        "#Fitting catboost regressor model on the train data\n",
        "cat = CatBoostRegressor(random_state = 123  , max_depth = 14,verbose=False)\n",
        "cat.fit(x_train,y_train)"
      ],
      "execution_count": 56,
      "outputs": [
        {
          "output_type": "execute_result",
          "data": {
            "text/plain": [
              "<catboost.core.CatBoostRegressor at 0x7f6e300b6810>"
            ]
          },
          "metadata": {
            "tags": []
          },
          "execution_count": 56
        }
      ]
    },
    {
      "cell_type": "code",
      "metadata": {
        "id": "2B6y6LOtNSrO"
      },
      "source": [
        ""
      ],
      "execution_count": 56,
      "outputs": []
    },
    {
      "cell_type": "markdown",
      "metadata": {
        "id": "B3sUmBikkapu"
      },
      "source": [
        "# 4. Evaluation"
      ]
    },
    {
      "cell_type": "code",
      "metadata": {
        "colab": {
          "base_uri": "https://localhost:8080/"
        },
        "id": "PFKPtcbQbhwE",
        "outputId": "e5533f7c-a42c-432a-8d8b-09db995fe256"
      },
      "source": [
        "#Combine the prediction of all the model\n",
        "#Weighatages are assigned to model based on trial and error method\n",
        "ytrain_pred_exp = np.expm1(( 0.05 * rf.predict(x_train) + 0.1 * xgb.predict(x_train) + 0.45 *  etr.predict(x_train) +\n",
        "          0.1 * cat.predict(x_train) +\n",
        "          0.3 * lgbm.predict(x_train) ))\n",
        "ytrain_exp = np.expm1(y_train)\n",
        "print('Train rmsle', rmsle(ytrain_pred_exp,ytrain_exp))"
      ],
      "execution_count": 95,
      "outputs": [
        {
          "output_type": "stream",
          "text": [
            "Train rmsle 0.25190065511370724\n"
          ],
          "name": "stdout"
        }
      ]
    },
    {
      "cell_type": "code",
      "metadata": {
        "colab": {
          "base_uri": "https://localhost:8080/"
        },
        "id": "sbczO31QcA4z",
        "outputId": "3cde5248-08b2-4fee-cee9-f295fdf62e5b"
      },
      "source": [
        "#Combine the prediction of all the model\n",
        "#Weighatages are assigned to model based on trial and error method\n",
        "ytest_pred_exp = np.expm1(( 0.05 * rf.predict(x_test) + 0.1 * xgb.predict(x_test) + 0.45 *  etr.predict(x_test) +\n",
        "          0.1 * cat.predict(x_test) +\n",
        "          0.3 * lgbm.predict(x_test) ))\n",
        "ytest_exp = np.expm1(y_test)\n",
        "print('Test rmsle', rmsle(ytest_pred_exp,ytest_exp))"
      ],
      "execution_count": 96,
      "outputs": [
        {
          "output_type": "stream",
          "text": [
            "Test rmsle 0.8997271458807456\n"
          ],
          "name": "stdout"
        }
      ]
    },
    {
      "cell_type": "markdown",
      "metadata": {
        "id": "HGJZ1O2ckeCf"
      },
      "source": [
        "# 5. Submission"
      ]
    },
    {
      "cell_type": "markdown",
      "metadata": {
        "id": "ytD0L-QD2SZA"
      },
      "source": [
        "For the submission we use the whole training data to train the model for better results. "
      ]
    },
    {
      "cell_type": "code",
      "metadata": {
        "colab": {
          "base_uri": "https://localhost:8080/"
        },
        "id": "A5lh9hM73F4s",
        "outputId": "6fb35308-0b45-42bc-d254-7cd84969216a"
      },
      "source": [
        "# Random Forest Model - Fit model using whole traing data\n",
        "submission = np.expm1(( 0.05 * rf.predict(test_scaled) +0.1* xgb.predict(test_scaled)+ 0.45 *  etr.predict(test_scaled) +\n",
        "          0.1 * cat.predict(test_scaled) +\n",
        "          0.3 * lgbm.predict(test_scaled) ))"
      ],
      "execution_count": 97,
      "outputs": [
        {
          "output_type": "execute_result",
          "data": {
            "text/plain": [
              "array([10505.52101449,  1773.99396274,  4264.42748056, ...,\n",
              "        1212.20678438,  2469.67574153,   682.70707487])"
            ]
          },
          "metadata": {
            "tags": []
          },
          "execution_count": 97
        }
      ]
    },
    {
      "cell_type": "code",
      "metadata": {
        "colab": {
          "base_uri": "https://localhost:8080/"
        },
        "id": "78QoBSxbWdeN",
        "outputId": "ca2202ca-6cc6-4e24-9acf-bca47f26579a"
      },
      "source": [
        "submission = pd.DataFrame(submission,columns=['Price'])\n",
        "submission.to_csv('my_submission.csv',index=False)"
      ],
      "execution_count": 94,
      "outputs": [
        {
          "output_type": "execute_result",
          "data": {
            "text/plain": [
              "array([9.02276  , 6.6083364, 8.580068 , ..., 6.5209055, 7.3658986,\n",
              "       6.3988523], dtype=float32)"
            ]
          },
          "metadata": {
            "tags": []
          },
          "execution_count": 94
        }
      ]
    }
  ]
}